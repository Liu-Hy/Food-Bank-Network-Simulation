{
 "cells": [
  {
   "cell_type": "code",
   "execution_count": 1,
   "id": "6876c320",
   "metadata": {},
   "outputs": [],
   "source": [
    "import pandas as pd"
   ]
  },
  {
   "cell_type": "markdown",
   "id": "0f8e2afc",
   "metadata": {},
   "source": [
    "Processes price history for selected representative goods from the Bureau of Labor statistics"
   ]
  },
  {
   "cell_type": "markdown",
   "id": "b4b6b61b",
   "metadata": {},
   "source": [
    "Average all prices for market basket of specific goods"
   ]
  },
  {
   "cell_type": "code",
   "execution_count": 24,
   "id": "4e06f3f0",
   "metadata": {},
   "outputs": [
    {
     "name": "stderr",
     "output_type": "stream",
     "text": [
      "C:\\Users\\lucia\\miniconda3\\lib\\site-packages\\openpyxl\\styles\\stylesheet.py:226: UserWarning: Workbook contains no default style, apply openpyxl's default\n",
      "  warn(\"Workbook contains no default style, apply openpyxl's default\")\n",
      "C:\\Users\\lucia\\miniconda3\\lib\\site-packages\\openpyxl\\styles\\stylesheet.py:226: UserWarning: Workbook contains no default style, apply openpyxl's default\n",
      "  warn(\"Workbook contains no default style, apply openpyxl's default\")\n",
      "C:\\Users\\lucia\\miniconda3\\lib\\site-packages\\openpyxl\\styles\\stylesheet.py:226: UserWarning: Workbook contains no default style, apply openpyxl's default\n",
      "  warn(\"Workbook contains no default style, apply openpyxl's default\")\n"
     ]
    }
   ],
   "source": [
    "fresh_fruit_and_veg=pd.read_excel(\"foodprices/banana.xlsx\",skiprows=9).set_index(\"Year\")+pd.read_excel(\"foodprices/oranges.xlsx\",skiprows=9).set_index(\"Year\")+pd.read_excel(\"foodprices/tomatoes.xlsx\",skiprows=9).set_index(\"Year\")"
   ]
  },
  {
   "cell_type": "code",
   "execution_count": 27,
   "id": "47223870",
   "metadata": {},
   "outputs": [],
   "source": [
    "fresh_fruit_and_veg=fresh_fruit_and_veg/3 #average price"
   ]
  },
  {
   "cell_type": "code",
   "execution_count": 23,
   "id": "e6685142",
   "metadata": {},
   "outputs": [
    {
     "name": "stderr",
     "output_type": "stream",
     "text": [
      "C:\\Users\\lucia\\miniconda3\\lib\\site-packages\\openpyxl\\styles\\stylesheet.py:226: UserWarning: Workbook contains no default style, apply openpyxl's default\n",
      "  warn(\"Workbook contains no default style, apply openpyxl's default\")\n",
      "C:\\Users\\lucia\\miniconda3\\lib\\site-packages\\openpyxl\\styles\\stylesheet.py:226: UserWarning: Workbook contains no default style, apply openpyxl's default\n",
      "  warn(\"Workbook contains no default style, apply openpyxl's default\")\n",
      "C:\\Users\\lucia\\miniconda3\\lib\\site-packages\\openpyxl\\styles\\stylesheet.py:226: UserWarning: Workbook contains no default style, apply openpyxl's default\n",
      "  warn(\"Workbook contains no default style, apply openpyxl's default\")\n",
      "C:\\Users\\lucia\\miniconda3\\lib\\site-packages\\openpyxl\\styles\\stylesheet.py:226: UserWarning: Workbook contains no default style, apply openpyxl's default\n",
      "  warn(\"Workbook contains no default style, apply openpyxl's default\")\n"
     ]
    }
   ],
   "source": [
    "meat=pd.read_excel(\"foodprices/beef.xlsx\",skiprows=9).set_index(\"Year\")+pd.read_excel(\"foodprices/chicken.xlsx\",skiprows=9).set_index(\"Year\")+pd.read_excel(\"foodprices/egg.xlsx\",skiprows=9).set_index(\"Year\")+pd.read_excel(\"foodprices/pork.xlsx\",skiprows=9).set_index(\"Year\")"
   ]
  },
  {
   "cell_type": "code",
   "execution_count": 26,
   "id": "a0b65542",
   "metadata": {},
   "outputs": [],
   "source": [
    "meat=meat/4 #average price"
   ]
  },
  {
   "cell_type": "code",
   "execution_count": 28,
   "id": "db1f2bd1",
   "metadata": {},
   "outputs": [
    {
     "name": "stderr",
     "output_type": "stream",
     "text": [
      "C:\\Users\\lucia\\miniconda3\\lib\\site-packages\\openpyxl\\styles\\stylesheet.py:226: UserWarning: Workbook contains no default style, apply openpyxl's default\n",
      "  warn(\"Workbook contains no default style, apply openpyxl's default\")\n",
      "C:\\Users\\lucia\\miniconda3\\lib\\site-packages\\openpyxl\\styles\\stylesheet.py:226: UserWarning: Workbook contains no default style, apply openpyxl's default\n",
      "  warn(\"Workbook contains no default style, apply openpyxl's default\")\n",
      "C:\\Users\\lucia\\miniconda3\\lib\\site-packages\\openpyxl\\styles\\stylesheet.py:226: UserWarning: Workbook contains no default style, apply openpyxl's default\n",
      "  warn(\"Workbook contains no default style, apply openpyxl's default\")\n"
     ]
    }
   ],
   "source": [
    "staples=pd.read_excel(\"foodprices/flour.xlsx\",skiprows=9).set_index(\"Year\")+pd.read_excel(\"foodprices/bread.xlsx\",skiprows=9).set_index(\"Year\")+pd.read_excel(\"foodprices/rice.xlsx\",skiprows=9).set_index(\"Year\")"
   ]
  },
  {
   "cell_type": "code",
   "execution_count": 29,
   "id": "b67bfcc3",
   "metadata": {},
   "outputs": [],
   "source": [
    "staples=staples/3"
   ]
  },
  {
   "cell_type": "code",
   "execution_count": 30,
   "id": "90be3e75",
   "metadata": {},
   "outputs": [
    {
     "name": "stderr",
     "output_type": "stream",
     "text": [
      "C:\\Users\\lucia\\miniconda3\\lib\\site-packages\\openpyxl\\styles\\stylesheet.py:226: UserWarning: Workbook contains no default style, apply openpyxl's default\n",
      "  warn(\"Workbook contains no default style, apply openpyxl's default\")\n"
     ]
    }
   ],
   "source": [
    "gas=pd.read_excel(\"foodprices/gas.xlsx\",skiprows=9).set_index(\"Year\")"
   ]
  },
  {
   "cell_type": "code",
   "execution_count": 47,
   "id": "86f402d4",
   "metadata": {},
   "outputs": [],
   "source": [
    "summary_stats= pd.DataFrame(columns=['good', 'latest_price', 'min', \"max\", \"mean\", \"std\"])"
   ]
  },
  {
   "cell_type": "code",
   "execution_count": 56,
   "id": "06ff74d6",
   "metadata": {},
   "outputs": [],
   "source": [
    "def add_row(price_df, good):\n",
    "    \"\"\"\n",
    "    calculates summary statistics for a good and adds it to DF\n",
    "    price_df:df of prices downloaded from BLS\n",
    "    good:str name of good\n",
    "    return:None\n",
    "    \"\"\"\n",
    "    output=[]\n",
    "    output.append(good)\n",
    "    output.append(price_df.loc[2022][\"Oct\"])\n",
    "    output.append(price_df.min().min())\n",
    "    output.append(price_df.max().max())\n",
    "    output.append(price_df.stack().mean()) #reshape into one col and calc mean\n",
    "    output.append(price_df.stack().std()) #reshape into one col and calc mean\n",
    "    \n",
    "    summary_stats.loc[len(summary_stats)] = output #add list to end"
   ]
  },
  {
   "cell_type": "code",
   "execution_count": 53,
   "id": "f92faa2c",
   "metadata": {},
   "outputs": [],
   "source": [
    "add_row(fresh_fruit_and_veg, \"ffv\")"
   ]
  },
  {
   "cell_type": "code",
   "execution_count": 49,
   "id": "7bb30ccf",
   "metadata": {},
   "outputs": [],
   "source": [
    "add_row(meat, \"meat\")"
   ]
  },
  {
   "cell_type": "code",
   "execution_count": 50,
   "id": "2d637a8d",
   "metadata": {},
   "outputs": [],
   "source": [
    "add_row(staples, \"staples\")"
   ]
  },
  {
   "cell_type": "code",
   "execution_count": 51,
   "id": "15689c92",
   "metadata": {},
   "outputs": [],
   "source": [
    "add_row(gas, \"gas\")"
   ]
  },
  {
   "cell_type": "code",
   "execution_count": 55,
   "id": "bbb3cdc1",
   "metadata": {},
   "outputs": [],
   "source": [
    "summary_stats.to_csv(\"price_summary.csv\")"
   ]
  },
  {
   "cell_type": "code",
   "execution_count": null,
   "id": "40cefe8e",
   "metadata": {},
   "outputs": [],
   "source": []
  }
 ],
 "metadata": {
  "kernelspec": {
   "display_name": "Python 3 (ipykernel)",
   "language": "python",
   "name": "python3"
  },
  "language_info": {
   "codemirror_mode": {
    "name": "ipython",
    "version": 3
   },
   "file_extension": ".py",
   "mimetype": "text/x-python",
   "name": "python",
   "nbconvert_exporter": "python",
   "pygments_lexer": "ipython3",
   "version": "3.9.12"
  }
 },
 "nbformat": 4,
 "nbformat_minor": 5
}
