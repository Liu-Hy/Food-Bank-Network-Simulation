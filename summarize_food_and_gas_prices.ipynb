{
 "cells": [
  {
   "cell_type": "code",
   "execution_count": 1,
   "id": "6876c320",
   "metadata": {},
   "outputs": [],
   "source": [
    "import pandas as pd\n",
    "import numpy as np"
   ]
  },
  {
   "cell_type": "markdown",
   "id": "0f8e2afc",
   "metadata": {},
   "source": [
    "Processes price history for selected representative goods from the Bureau of Labor statistics"
   ]
  },
  {
   "cell_type": "markdown",
   "id": "b4b6b61b",
   "metadata": {},
   "source": [
    "Average all prices for market basket of specific goods"
   ]
  },
  {
   "cell_type": "code",
   "execution_count": 2,
   "id": "4e06f3f0",
   "metadata": {},
   "outputs": [
    {
     "name": "stderr",
     "output_type": "stream",
     "text": [
      "C:\\Users\\lucia\\miniconda3\\lib\\site-packages\\openpyxl\\styles\\stylesheet.py:226: UserWarning: Workbook contains no default style, apply openpyxl's default\n",
      "  warn(\"Workbook contains no default style, apply openpyxl's default\")\n",
      "C:\\Users\\lucia\\miniconda3\\lib\\site-packages\\openpyxl\\styles\\stylesheet.py:226: UserWarning: Workbook contains no default style, apply openpyxl's default\n",
      "  warn(\"Workbook contains no default style, apply openpyxl's default\")\n",
      "C:\\Users\\lucia\\miniconda3\\lib\\site-packages\\openpyxl\\styles\\stylesheet.py:226: UserWarning: Workbook contains no default style, apply openpyxl's default\n",
      "  warn(\"Workbook contains no default style, apply openpyxl's default\")\n"
     ]
    }
   ],
   "source": [
    "fresh_fruit_and_veg=pd.read_excel(\"foodprices/banana.xlsx\",skiprows=9).set_index(\"Year\")+pd.read_excel(\"foodprices/oranges.xlsx\",skiprows=9).set_index(\"Year\")+pd.read_excel(\"foodprices/tomatoes.xlsx\",skiprows=9).set_index(\"Year\")"
   ]
  },
  {
   "cell_type": "code",
   "execution_count": 3,
   "id": "47223870",
   "metadata": {},
   "outputs": [],
   "source": [
    "fresh_fruit_and_veg=fresh_fruit_and_veg/3 #average price"
   ]
  },
  {
   "cell_type": "code",
   "execution_count": 4,
   "id": "e6685142",
   "metadata": {},
   "outputs": [
    {
     "name": "stderr",
     "output_type": "stream",
     "text": [
      "C:\\Users\\lucia\\miniconda3\\lib\\site-packages\\openpyxl\\styles\\stylesheet.py:226: UserWarning: Workbook contains no default style, apply openpyxl's default\n",
      "  warn(\"Workbook contains no default style, apply openpyxl's default\")\n",
      "C:\\Users\\lucia\\miniconda3\\lib\\site-packages\\openpyxl\\styles\\stylesheet.py:226: UserWarning: Workbook contains no default style, apply openpyxl's default\n",
      "  warn(\"Workbook contains no default style, apply openpyxl's default\")\n",
      "C:\\Users\\lucia\\miniconda3\\lib\\site-packages\\openpyxl\\styles\\stylesheet.py:226: UserWarning: Workbook contains no default style, apply openpyxl's default\n",
      "  warn(\"Workbook contains no default style, apply openpyxl's default\")\n",
      "C:\\Users\\lucia\\miniconda3\\lib\\site-packages\\openpyxl\\styles\\stylesheet.py:226: UserWarning: Workbook contains no default style, apply openpyxl's default\n",
      "  warn(\"Workbook contains no default style, apply openpyxl's default\")\n"
     ]
    }
   ],
   "source": [
    "meat=pd.read_excel(\"foodprices/beef.xlsx\",skiprows=9).set_index(\"Year\")+pd.read_excel(\"foodprices/chicken.xlsx\",skiprows=9).set_index(\"Year\")+pd.read_excel(\"foodprices/egg.xlsx\",skiprows=9).set_index(\"Year\")+pd.read_excel(\"foodprices/pork.xlsx\",skiprows=9).set_index(\"Year\")"
   ]
  },
  {
   "cell_type": "code",
   "execution_count": 5,
   "id": "a0b65542",
   "metadata": {},
   "outputs": [],
   "source": [
    "meat=meat/4 #average price"
   ]
  },
  {
   "cell_type": "code",
   "execution_count": 6,
   "id": "db1f2bd1",
   "metadata": {},
   "outputs": [
    {
     "name": "stderr",
     "output_type": "stream",
     "text": [
      "C:\\Users\\lucia\\miniconda3\\lib\\site-packages\\openpyxl\\styles\\stylesheet.py:226: UserWarning: Workbook contains no default style, apply openpyxl's default\n",
      "  warn(\"Workbook contains no default style, apply openpyxl's default\")\n",
      "C:\\Users\\lucia\\miniconda3\\lib\\site-packages\\openpyxl\\styles\\stylesheet.py:226: UserWarning: Workbook contains no default style, apply openpyxl's default\n",
      "  warn(\"Workbook contains no default style, apply openpyxl's default\")\n",
      "C:\\Users\\lucia\\miniconda3\\lib\\site-packages\\openpyxl\\styles\\stylesheet.py:226: UserWarning: Workbook contains no default style, apply openpyxl's default\n",
      "  warn(\"Workbook contains no default style, apply openpyxl's default\")\n"
     ]
    }
   ],
   "source": [
    "staples=pd.read_excel(\"foodprices/flour.xlsx\",skiprows=9).set_index(\"Year\")+pd.read_excel(\"foodprices/bread.xlsx\",skiprows=9).set_index(\"Year\")+pd.read_excel(\"foodprices/rice.xlsx\",skiprows=9).set_index(\"Year\")"
   ]
  },
  {
   "cell_type": "code",
   "execution_count": 7,
   "id": "b67bfcc3",
   "metadata": {},
   "outputs": [],
   "source": [
    "staples=staples/3"
   ]
  },
  {
   "cell_type": "code",
   "execution_count": 8,
   "id": "90be3e75",
   "metadata": {},
   "outputs": [
    {
     "name": "stderr",
     "output_type": "stream",
     "text": [
      "C:\\Users\\lucia\\miniconda3\\lib\\site-packages\\openpyxl\\styles\\stylesheet.py:226: UserWarning: Workbook contains no default style, apply openpyxl's default\n",
      "  warn(\"Workbook contains no default style, apply openpyxl's default\")\n"
     ]
    }
   ],
   "source": [
    "gas=pd.read_excel(\"foodprices/gas.xlsx\",skiprows=9).set_index(\"Year\")"
   ]
  },
  {
   "cell_type": "code",
   "execution_count": 19,
   "id": "86f402d4",
   "metadata": {},
   "outputs": [],
   "source": [
    "summary_stats= pd.DataFrame(columns=['good', 'latest_price', 'min', \"max\", \"mean\", \"std\", \"min_delta\", \"mean_delta\", \"max_delta\", \"std_delta\"])"
   ]
  },
  {
   "cell_type": "code",
   "execution_count": 20,
   "id": "06ff74d6",
   "metadata": {},
   "outputs": [],
   "source": [
    "def add_row(price_df, good):\n",
    "    \"\"\"\n",
    "    calculates summary statistics for a good and adds it to DF\n",
    "    price_df:df of prices downloaded from BLS\n",
    "    good:str name of good\n",
    "    return:None\n",
    "    \"\"\"\n",
    "    output=[]\n",
    "    output.append(good)\n",
    "    output.append(price_df.loc[2022][\"Oct\"])\n",
    "    output.append(price_df.min().min())\n",
    "    output.append(price_df.max().max())\n",
    "    output.append(price_df.stack().mean()) #reshape into one col and calc mean\n",
    "    output.append(price_df.stack().std()) #reshape into one col and calc mean\n",
    "    diffs=np.diffs(np.array(price_df.stack())) #monthly change in price\n",
    "    diffs=np.absolute(diffs) #absolute change\n",
    "    output.append(np.min(diffs)) #min change in price\n",
    "    output.append(np.mean(diffs)) #mean change in price\n",
    "    output.append(np.max(diffs)) #max change in price\n",
    "    output.append(np.std(diffs)) #std change in price\n",
    "    \n",
    "    \n",
    "    \n",
    "    summary_stats.loc[len(summary_stats)] = output #add list to end"
   ]
  },
  {
   "cell_type": "code",
   "execution_count": 21,
   "id": "f92faa2c",
   "metadata": {},
   "outputs": [
    {
     "ename": "AttributeError",
     "evalue": "module 'numpy' has no attribute 'diffs'",
     "output_type": "error",
     "traceback": [
      "\u001b[1;31m---------------------------------------------------------------------------\u001b[0m",
      "\u001b[1;31mAttributeError\u001b[0m                            Traceback (most recent call last)",
      "Input \u001b[1;32mIn [21]\u001b[0m, in \u001b[0;36m<cell line: 1>\u001b[1;34m()\u001b[0m\n\u001b[1;32m----> 1\u001b[0m \u001b[43madd_row\u001b[49m\u001b[43m(\u001b[49m\u001b[43mfresh_fruit_and_veg\u001b[49m\u001b[43m,\u001b[49m\u001b[43m \u001b[49m\u001b[38;5;124;43m\"\u001b[39;49m\u001b[38;5;124;43mffv\u001b[39;49m\u001b[38;5;124;43m\"\u001b[39;49m\u001b[43m)\u001b[49m\n",
      "Input \u001b[1;32mIn [20]\u001b[0m, in \u001b[0;36madd_row\u001b[1;34m(price_df, good)\u001b[0m\n\u001b[0;32m     13\u001b[0m output\u001b[38;5;241m.\u001b[39mappend(price_df\u001b[38;5;241m.\u001b[39mstack()\u001b[38;5;241m.\u001b[39mmean()) \u001b[38;5;66;03m#reshape into one col and calc mean\u001b[39;00m\n\u001b[0;32m     14\u001b[0m output\u001b[38;5;241m.\u001b[39mappend(price_df\u001b[38;5;241m.\u001b[39mstack()\u001b[38;5;241m.\u001b[39mstd()) \u001b[38;5;66;03m#reshape into one col and calc mean\u001b[39;00m\n\u001b[1;32m---> 15\u001b[0m diffs\u001b[38;5;241m=\u001b[39m\u001b[43mnp\u001b[49m\u001b[38;5;241;43m.\u001b[39;49m\u001b[43mdiffs\u001b[49m(np\u001b[38;5;241m.\u001b[39marray(price_df\u001b[38;5;241m.\u001b[39mstack())) \u001b[38;5;66;03m#monthly change in price\u001b[39;00m\n\u001b[0;32m     16\u001b[0m diffs\u001b[38;5;241m=\u001b[39mnp\u001b[38;5;241m.\u001b[39mabsolute(diffs) \u001b[38;5;66;03m#absolute change\u001b[39;00m\n\u001b[0;32m     17\u001b[0m output\u001b[38;5;241m.\u001b[39mappend(np\u001b[38;5;241m.\u001b[39mmin(diffs)) \u001b[38;5;66;03m#min change in price\u001b[39;00m\n",
      "File \u001b[1;32m~\\miniconda3\\lib\\site-packages\\numpy\\__init__.py:311\u001b[0m, in \u001b[0;36m__getattr__\u001b[1;34m(attr)\u001b[0m\n\u001b[0;32m    308\u001b[0m     \u001b[38;5;28;01mfrom\u001b[39;00m \u001b[38;5;21;01m.\u001b[39;00m\u001b[38;5;21;01mtesting\u001b[39;00m \u001b[38;5;28;01mimport\u001b[39;00m Tester\n\u001b[0;32m    309\u001b[0m     \u001b[38;5;28;01mreturn\u001b[39;00m Tester\n\u001b[1;32m--> 311\u001b[0m \u001b[38;5;28;01mraise\u001b[39;00m \u001b[38;5;167;01mAttributeError\u001b[39;00m(\u001b[38;5;124m\"\u001b[39m\u001b[38;5;124mmodule \u001b[39m\u001b[38;5;132;01m{!r}\u001b[39;00m\u001b[38;5;124m has no attribute \u001b[39m\u001b[38;5;124m\"\u001b[39m\n\u001b[0;32m    312\u001b[0m                      \u001b[38;5;124m\"\u001b[39m\u001b[38;5;132;01m{!r}\u001b[39;00m\u001b[38;5;124m\"\u001b[39m\u001b[38;5;241m.\u001b[39mformat(\u001b[38;5;18m__name__\u001b[39m, attr))\n",
      "\u001b[1;31mAttributeError\u001b[0m: module 'numpy' has no attribute 'diffs'"
     ]
    }
   ],
   "source": [
    "add_row(fresh_fruit_and_veg, \"ffv\")"
   ]
  },
  {
   "cell_type": "code",
   "execution_count": 22,
   "id": "7bb30ccf",
   "metadata": {},
   "outputs": [
    {
     "ename": "AttributeError",
     "evalue": "module 'numpy' has no attribute 'diffs'",
     "output_type": "error",
     "traceback": [
      "\u001b[1;31m---------------------------------------------------------------------------\u001b[0m",
      "\u001b[1;31mAttributeError\u001b[0m                            Traceback (most recent call last)",
      "Input \u001b[1;32mIn [22]\u001b[0m, in \u001b[0;36m<cell line: 1>\u001b[1;34m()\u001b[0m\n\u001b[1;32m----> 1\u001b[0m \u001b[43madd_row\u001b[49m\u001b[43m(\u001b[49m\u001b[43mmeat\u001b[49m\u001b[43m,\u001b[49m\u001b[43m \u001b[49m\u001b[38;5;124;43m\"\u001b[39;49m\u001b[38;5;124;43mmeat\u001b[39;49m\u001b[38;5;124;43m\"\u001b[39;49m\u001b[43m)\u001b[49m\n",
      "Input \u001b[1;32mIn [20]\u001b[0m, in \u001b[0;36madd_row\u001b[1;34m(price_df, good)\u001b[0m\n\u001b[0;32m     13\u001b[0m output\u001b[38;5;241m.\u001b[39mappend(price_df\u001b[38;5;241m.\u001b[39mstack()\u001b[38;5;241m.\u001b[39mmean()) \u001b[38;5;66;03m#reshape into one col and calc mean\u001b[39;00m\n\u001b[0;32m     14\u001b[0m output\u001b[38;5;241m.\u001b[39mappend(price_df\u001b[38;5;241m.\u001b[39mstack()\u001b[38;5;241m.\u001b[39mstd()) \u001b[38;5;66;03m#reshape into one col and calc mean\u001b[39;00m\n\u001b[1;32m---> 15\u001b[0m diffs\u001b[38;5;241m=\u001b[39m\u001b[43mnp\u001b[49m\u001b[38;5;241;43m.\u001b[39;49m\u001b[43mdiffs\u001b[49m(np\u001b[38;5;241m.\u001b[39marray(price_df\u001b[38;5;241m.\u001b[39mstack())) \u001b[38;5;66;03m#monthly change in price\u001b[39;00m\n\u001b[0;32m     16\u001b[0m diffs\u001b[38;5;241m=\u001b[39mnp\u001b[38;5;241m.\u001b[39mabsolute(diffs) \u001b[38;5;66;03m#absolute change\u001b[39;00m\n\u001b[0;32m     17\u001b[0m output\u001b[38;5;241m.\u001b[39mappend(np\u001b[38;5;241m.\u001b[39mmin(diffs)) \u001b[38;5;66;03m#min change in price\u001b[39;00m\n",
      "File \u001b[1;32m~\\miniconda3\\lib\\site-packages\\numpy\\__init__.py:311\u001b[0m, in \u001b[0;36m__getattr__\u001b[1;34m(attr)\u001b[0m\n\u001b[0;32m    308\u001b[0m     \u001b[38;5;28;01mfrom\u001b[39;00m \u001b[38;5;21;01m.\u001b[39;00m\u001b[38;5;21;01mtesting\u001b[39;00m \u001b[38;5;28;01mimport\u001b[39;00m Tester\n\u001b[0;32m    309\u001b[0m     \u001b[38;5;28;01mreturn\u001b[39;00m Tester\n\u001b[1;32m--> 311\u001b[0m \u001b[38;5;28;01mraise\u001b[39;00m \u001b[38;5;167;01mAttributeError\u001b[39;00m(\u001b[38;5;124m\"\u001b[39m\u001b[38;5;124mmodule \u001b[39m\u001b[38;5;132;01m{!r}\u001b[39;00m\u001b[38;5;124m has no attribute \u001b[39m\u001b[38;5;124m\"\u001b[39m\n\u001b[0;32m    312\u001b[0m                      \u001b[38;5;124m\"\u001b[39m\u001b[38;5;132;01m{!r}\u001b[39;00m\u001b[38;5;124m\"\u001b[39m\u001b[38;5;241m.\u001b[39mformat(\u001b[38;5;18m__name__\u001b[39m, attr))\n",
      "\u001b[1;31mAttributeError\u001b[0m: module 'numpy' has no attribute 'diffs'"
     ]
    }
   ],
   "source": [
    "add_row(meat, \"meat\")"
   ]
  },
  {
   "cell_type": "code",
   "execution_count": 13,
   "id": "2d637a8d",
   "metadata": {},
   "outputs": [],
   "source": [
    "add_row(staples, \"staples\")"
   ]
  },
  {
   "cell_type": "code",
   "execution_count": 14,
   "id": "15689c92",
   "metadata": {},
   "outputs": [],
   "source": [
    "add_row(gas, \"gas\")"
   ]
  },
  {
   "cell_type": "code",
   "execution_count": 15,
   "id": "bbb3cdc1",
   "metadata": {},
   "outputs": [],
   "source": [
    "summary_stats.to_csv(\"price_summary.csv\")"
   ]
  },
  {
   "cell_type": "code",
   "execution_count": null,
   "id": "40cefe8e",
   "metadata": {},
   "outputs": [],
   "source": []
  }
 ],
 "metadata": {
  "kernelspec": {
   "display_name": "Python 3 (ipykernel)",
   "language": "python",
   "name": "python3"
  },
  "language_info": {
   "codemirror_mode": {
    "name": "ipython",
    "version": 3
   },
   "file_extension": ".py",
   "mimetype": "text/x-python",
   "name": "python",
   "nbconvert_exporter": "python",
   "pygments_lexer": "ipython3",
   "version": "3.9.12"
  }
 },
 "nbformat": 4,
 "nbformat_minor": 5
}
