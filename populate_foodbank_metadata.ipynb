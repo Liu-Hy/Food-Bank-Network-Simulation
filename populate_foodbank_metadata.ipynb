{
 "cells": [
  {
   "cell_type": "code",
   "execution_count": 27,
   "metadata": {},
   "outputs": [],
   "source": [
    "import pandas as pd\n",
    "import matplotlib\n",
    "import numpy as np\n",
    "from scipy import stats"
   ]
  },
  {
   "cell_type": "markdown",
   "metadata": {},
   "source": [
    "Read GDP per capita figures from Wikipedia table"
   ]
  },
  {
   "cell_type": "code",
   "execution_count": 6,
   "metadata": {},
   "outputs": [],
   "source": [
    "cities=pd.read_csv(\"List_of_U.S._metropolitan_areas_by_GDP_per_capita_1.csv\", sep=\",\")"
   ]
  },
  {
   "cell_type": "code",
   "execution_count": 16,
   "metadata": {},
   "outputs": [
    {
     "data": {
      "text/html": [
       "<div>\n",
       "<style scoped>\n",
       "    .dataframe tbody tr th:only-of-type {\n",
       "        vertical-align: middle;\n",
       "    }\n",
       "\n",
       "    .dataframe tbody tr th {\n",
       "        vertical-align: top;\n",
       "    }\n",
       "\n",
       "    .dataframe thead th {\n",
       "        text-align: right;\n",
       "    }\n",
       "</style>\n",
       "<table border=\"1\" class=\"dataframe\">\n",
       "  <thead>\n",
       "    <tr style=\"text-align: right;\">\n",
       "      <th></th>\n",
       "      <th>Rank</th>\n",
       "      <th>Metropolitan area</th>\n",
       "      <th>2017 GDP per capita \\n(chained 2009 US-Dollars)</th>\n",
       "    </tr>\n",
       "  </thead>\n",
       "  <tbody>\n",
       "    <tr>\n",
       "      <th>0</th>\n",
       "      <td>1.0</td>\n",
       "      <td>Midland, TX Metropolitan Statistical Area</td>\n",
       "      <td>174,749</td>\n",
       "    </tr>\n",
       "    <tr>\n",
       "      <th>1</th>\n",
       "      <td>2.0</td>\n",
       "      <td>San Jose-Sunnyvale-Santa Clara, CA Metropolita...</td>\n",
       "      <td>128,308</td>\n",
       "    </tr>\n",
       "    <tr>\n",
       "      <th>2</th>\n",
       "      <td>3.0</td>\n",
       "      <td>San Francisco–Oakland–Hayward, CA Metropolitan...</td>\n",
       "      <td>89,978</td>\n",
       "    </tr>\n",
       "    <tr>\n",
       "      <th>3</th>\n",
       "      <td>4.0</td>\n",
       "      <td>Bridgeport-Stamford-Norwalk, CT Metropolitan S...</td>\n",
       "      <td>87,082</td>\n",
       "    </tr>\n",
       "    <tr>\n",
       "      <th>4</th>\n",
       "      <td>5.0</td>\n",
       "      <td>Seattle-Tacoma-Bellevue, WA Metropolitan Stati...</td>\n",
       "      <td>80,833</td>\n",
       "    </tr>\n",
       "  </tbody>\n",
       "</table>\n",
       "</div>"
      ],
      "text/plain": [
       "   Rank                                  Metropolitan area  \\\n",
       "0   1.0          Midland, TX Metropolitan Statistical Area   \n",
       "1   2.0  San Jose-Sunnyvale-Santa Clara, CA Metropolita...   \n",
       "2   3.0  San Francisco–Oakland–Hayward, CA Metropolitan...   \n",
       "3   4.0  Bridgeport-Stamford-Norwalk, CT Metropolitan S...   \n",
       "4   5.0  Seattle-Tacoma-Bellevue, WA Metropolitan Stati...   \n",
       "\n",
       "  2017 GDP per capita \\n(chained 2009 US-Dollars)  \n",
       "0                                         174,749  \n",
       "1                                         128,308  \n",
       "2                                          89,978  \n",
       "3                                          87,082  \n",
       "4                                          80,833  "
      ]
     },
     "execution_count": 16,
     "metadata": {},
     "output_type": "execute_result"
    }
   ],
   "source": [
    "cities.head()\n"
   ]
  },
  {
   "cell_type": "markdown",
   "metadata": {},
   "source": [
    "Read data from previous team's work, with some additional manual annotation of food stocks and annual program budget"
   ]
  },
  {
   "cell_type": "code",
   "execution_count": 8,
   "metadata": {},
   "outputs": [],
   "source": [
    "foodbanks=pd.read_csv(\"foodbank_with_latlon.csv\", sep=\"\\t\")"
   ]
  },
  {
   "cell_type": "code",
   "execution_count": 38,
   "metadata": {},
   "outputs": [
    {
     "data": {
      "text/html": [
       "<div>\n",
       "<style scoped>\n",
       "    .dataframe tbody tr th:only-of-type {\n",
       "        vertical-align: middle;\n",
       "    }\n",
       "\n",
       "    .dataframe tbody tr th {\n",
       "        vertical-align: top;\n",
       "    }\n",
       "\n",
       "    .dataframe thead th {\n",
       "        text-align: right;\n",
       "    }\n",
       "</style>\n",
       "<table border=\"1\" class=\"dataframe\">\n",
       "  <thead>\n",
       "    <tr style=\"text-align: right;\">\n",
       "      <th></th>\n",
       "      <th>Food Bank</th>\n",
       "      <th>ID</th>\n",
       "      <th>Total Population</th>\n",
       "      <th>2021 Food Insecurity %</th>\n",
       "      <th>2021 Food Insecurity #</th>\n",
       "      <th>address</th>\n",
       "      <th>city</th>\n",
       "      <th>zip_code</th>\n",
       "      <th>state</th>\n",
       "      <th>statecode</th>\n",
       "      <th>latitude</th>\n",
       "      <th>longitude</th>\n",
       "      <th>lbs_distr</th>\n",
       "      <th>program_budget</th>\n",
       "      <th>metro gdp per capita</th>\n",
       "    </tr>\n",
       "  </thead>\n",
       "  <tbody>\n",
       "    <tr>\n",
       "      <th>0</th>\n",
       "      <td>Roadrunner Food Bank</td>\n",
       "      <td>1</td>\n",
       "      <td>2092454</td>\n",
       "      <td>0.155</td>\n",
       "      <td>323340</td>\n",
       "      <td>5840 Office Blvd NE</td>\n",
       "      <td>Albuquerque</td>\n",
       "      <td>87109</td>\n",
       "      <td>New Mexico</td>\n",
       "      <td>NM</td>\n",
       "      <td>35.1506</td>\n",
       "      <td>-106.5690</td>\n",
       "      <td>58958429.0</td>\n",
       "      <td>140942492.0</td>\n",
       "      <td>42299.0</td>\n",
       "    </tr>\n",
       "    <tr>\n",
       "      <th>1</th>\n",
       "      <td>High Plains Food Bank</td>\n",
       "      <td>2</td>\n",
       "      <td>475188</td>\n",
       "      <td>0.161</td>\n",
       "      <td>76360</td>\n",
       "      <td>815 S. Ross|PO Box 31803</td>\n",
       "      <td>Amarillo</td>\n",
       "      <td>79120</td>\n",
       "      <td>Texas</td>\n",
       "      <td>TX</td>\n",
       "      <td>35.1964</td>\n",
       "      <td>-101.8034</td>\n",
       "      <td>NaN</td>\n",
       "      <td>NaN</td>\n",
       "      <td>46195.0</td>\n",
       "    </tr>\n",
       "    <tr>\n",
       "      <th>2</th>\n",
       "      <td>Food Bank of Alaska, Inc.</td>\n",
       "      <td>3</td>\n",
       "      <td>737068</td>\n",
       "      <td>0.129</td>\n",
       "      <td>95420</td>\n",
       "      <td>2192 Viking Drive</td>\n",
       "      <td>Anchorage</td>\n",
       "      <td>99501</td>\n",
       "      <td>Alaska</td>\n",
       "      <td>AK</td>\n",
       "      <td>61.2116</td>\n",
       "      <td>-149.8761</td>\n",
       "      <td>11073479.0</td>\n",
       "      <td>24880966.0</td>\n",
       "      <td>61568.0</td>\n",
       "    </tr>\n",
       "    <tr>\n",
       "      <th>3</th>\n",
       "      <td>Atlanta Community Food Bank</td>\n",
       "      <td>4</td>\n",
       "      <td>6105046</td>\n",
       "      <td>0.117</td>\n",
       "      <td>715840</td>\n",
       "      <td>3400 N Desert Dr</td>\n",
       "      <td>Atlanta</td>\n",
       "      <td>30344</td>\n",
       "      <td>Georgia</td>\n",
       "      <td>GA</td>\n",
       "      <td>33.6919</td>\n",
       "      <td>-84.4480</td>\n",
       "      <td>NaN</td>\n",
       "      <td>213237927.0</td>\n",
       "      <td>56840.0</td>\n",
       "    </tr>\n",
       "    <tr>\n",
       "      <th>4</th>\n",
       "      <td>Golden Harvest Food Bank</td>\n",
       "      <td>5</td>\n",
       "      <td>831422</td>\n",
       "      <td>0.139</td>\n",
       "      <td>115340</td>\n",
       "      <td>3310 Commerce Drive</td>\n",
       "      <td>Augusta</td>\n",
       "      <td>30909</td>\n",
       "      <td>Georgia</td>\n",
       "      <td>GA</td>\n",
       "      <td>33.4717</td>\n",
       "      <td>-82.0834</td>\n",
       "      <td>NaN</td>\n",
       "      <td>NaN</td>\n",
       "      <td>34843.0</td>\n",
       "    </tr>\n",
       "  </tbody>\n",
       "</table>\n",
       "</div>"
      ],
      "text/plain": [
       "                     Food Bank  ID  Total Population  2021 Food Insecurity %  \\\n",
       "0         Roadrunner Food Bank   1           2092454                   0.155   \n",
       "1        High Plains Food Bank   2            475188                   0.161   \n",
       "2    Food Bank of Alaska, Inc.   3            737068                   0.129   \n",
       "3  Atlanta Community Food Bank   4           6105046                   0.117   \n",
       "4     Golden Harvest Food Bank   5            831422                   0.139   \n",
       "\n",
       "   2021 Food Insecurity #                   address         city  zip_code  \\\n",
       "0                  323340       5840 Office Blvd NE  Albuquerque     87109   \n",
       "1                   76360  815 S. Ross|PO Box 31803     Amarillo     79120   \n",
       "2                   95420         2192 Viking Drive    Anchorage     99501   \n",
       "3                  715840          3400 N Desert Dr      Atlanta     30344   \n",
       "4                  115340       3310 Commerce Drive      Augusta     30909   \n",
       "\n",
       "        state statecode  latitude  longitude   lbs_distr  program_budget  \\\n",
       "0  New Mexico        NM   35.1506  -106.5690  58958429.0     140942492.0   \n",
       "1       Texas        TX   35.1964  -101.8034         NaN             NaN   \n",
       "2      Alaska        AK   61.2116  -149.8761  11073479.0      24880966.0   \n",
       "3     Georgia        GA   33.6919   -84.4480         NaN     213237927.0   \n",
       "4     Georgia        GA   33.4717   -82.0834         NaN             NaN   \n",
       "\n",
       "   metro gdp per capita  \n",
       "0               42299.0  \n",
       "1               46195.0  \n",
       "2               61568.0  \n",
       "3               56840.0  \n",
       "4               34843.0  "
      ]
     },
     "execution_count": 38,
     "metadata": {},
     "output_type": "execute_result"
    }
   ],
   "source": [
    "foodbanks.head()"
   ]
  },
  {
   "cell_type": "markdown",
   "metadata": {},
   "source": [
    "Annotate with GDP per capita of metro area"
   ]
  },
  {
   "cell_type": "code",
   "execution_count": 17,
   "metadata": {},
   "outputs": [],
   "source": [
    "metros=list(cities[\"Metropolitan area\"])"
   ]
  },
  {
   "cell_type": "code",
   "execution_count": 18,
   "metadata": {},
   "outputs": [],
   "source": [
    "gdp=list(cities[\"2017 GDP per capita \\n(chained 2009 US-Dollars)\"])"
   ]
  },
  {
   "cell_type": "code",
   "execution_count": 32,
   "metadata": {},
   "outputs": [],
   "source": [
    "city_match=list(foodbanks[\"city\"])"
   ]
  },
  {
   "cell_type": "markdown",
   "metadata": {},
   "source": [
    "Merge GDPs based on partial city match"
   ]
  },
  {
   "cell_type": "code",
   "execution_count": 28,
   "metadata": {},
   "outputs": [],
   "source": [
    "gdps=[]\n",
    "for c in city_match:\n",
    "    out=np.nan\n",
    "    for m in range(0, len(metros)):\n",
    "        if c in metros[m]:\n",
    "            out=int(gdp[m].replace(\",\", \"\"))\n",
    "    gdps.append(out)"
   ]
  },
  {
   "cell_type": "code",
   "execution_count": 41,
   "metadata": {},
   "outputs": [],
   "source": [
    "foodbanks[\"metro gdp per capita\"]=gdps"
   ]
  },
  {
   "cell_type": "code",
   "execution_count": 43,
   "metadata": {},
   "outputs": [
    {
     "data": {
      "text/plain": [
       "46"
      ]
     },
     "execution_count": 43,
     "metadata": {},
     "output_type": "execute_result"
    }
   ],
   "source": [
    "foodbanks[\"metro gdp per capita\"].isna().sum()"
   ]
  },
  {
   "cell_type": "markdown",
   "metadata": {},
   "source": [
    "Fill missing GDP per capita with average value"
   ]
  },
  {
   "cell_type": "code",
   "execution_count": 39,
   "metadata": {},
   "outputs": [],
   "source": [
    "\n",
    "foodbanks[\"metro gdp per capita\"].fillna(int(foodbanks[\"metro gdp per capita\"].mean()), inplace=True)\n"
   ]
  },
  {
   "cell_type": "markdown",
   "metadata": {},
   "source": [
    "Linear regression to predict pounds of food per year from food insecure population"
   ]
  },
  {
   "cell_type": "code",
   "execution_count": 64,
   "metadata": {},
   "outputs": [],
   "source": [
    "temp=foodbanks.dropna(subset=[\"lbs_distr\"])"
   ]
  },
  {
   "cell_type": "markdown",
   "metadata": {},
   "source": [
    "Linear correlation between pounds of food distributed and food insecure population"
   ]
  },
  {
   "cell_type": "code",
   "execution_count": 65,
   "metadata": {},
   "outputs": [
    {
     "data": {
      "text/plain": [
       "<AxesSubplot:xlabel='lbs_distr', ylabel='2021 Food Insecurity #'>"
      ]
     },
     "execution_count": 65,
     "metadata": {},
     "output_type": "execute_result"
    },
    {
     "data": {
      "image/png": "[encoded data removed]",
      "text/plain": [
       "<Figure size 432x288 with 1 Axes>"
      ]
     },
     "metadata": {
      "needs_background": "light"
     },
     "output_type": "display_data"
    }
   ],
   "source": [
    "temp.plot.scatter(x=\"lbs_distr\", y=\"2021 Food Insecurity #\")"
   ]
  },
  {
   "cell_type": "code",
   "execution_count": 94,
   "metadata": {},
   "outputs": [],
   "source": [
    "x=temp[\"lbs_distr\"]\n",
    "y=temp[\"2021 Food Insecurity #\"]"
   ]
  },
  {
   "cell_type": "code",
   "execution_count": 95,
   "metadata": {},
   "outputs": [],
   "source": [
    "slope, intercept, r, p, std_err=stats.linregress(y, x)"
   ]
  },
  {
   "cell_type": "code",
   "execution_count": 96,
   "metadata": {},
   "outputs": [],
   "source": [
    "def fill_pounds(row):\n",
    "    if not pd.isna(row[\"lbs_distr\"]):\n",
    "        return row[\"lbs_distr\"]\n",
    "    else:\n",
    "        return slope * row[\"2021 Food Insecurity #\"] + intercept"
   ]
  },
  {
   "cell_type": "code",
   "execution_count": 97,
   "metadata": {},
   "outputs": [],
   "source": [
    "foodbanks[\"estimated_pounds_per_year\"]=foodbanks.apply(lambda row: fill_pounds(row), axis=1)"
   ]
  },
  {
   "cell_type": "markdown",
   "metadata": {},
   "source": [
    "Linear regression to predict program budget from food insecure population"
   ]
  },
  {
   "cell_type": "code",
   "execution_count": 54,
   "metadata": {},
   "outputs": [],
   "source": [
    "temp=foodbanks.dropna(subset=[\"program_budget\"])"
   ]
  },
  {
   "cell_type": "code",
   "execution_count": 60,
   "metadata": {},
   "outputs": [],
   "source": [
    "x=temp[\"program_budget\"]\n",
    "y=temp[\"2021 Food Insecurity #\"]"
   ]
  },
  {
   "cell_type": "markdown",
   "metadata": {},
   "source": [
    "Linear correlation between program budget and food insecure population"
   ]
  },
  {
   "cell_type": "code",
   "execution_count": 56,
   "metadata": {},
   "outputs": [
    {
     "data": {
      "text/plain": [
       "<AxesSubplot:xlabel='program_budget', ylabel='2021 Food Insecurity #'>"
      ]
     },
     "execution_count": 56,
     "metadata": {},
     "output_type": "execute_result"
    },
    {
     "data": {
      "image/png": "[encoded data removed]",
      "text/plain": [
       "<Figure size 432x288 with 1 Axes>"
      ]
     },
     "metadata": {
      "needs_background": "light"
     },
     "output_type": "display_data"
    }
   ],
   "source": [
    "temp.plot.scatter(x=\"program_budget\", y=\"2021 Food Insecurity #\")"
   ]
  },
  {
   "cell_type": "code",
   "execution_count": 84,
   "metadata": {},
   "outputs": [],
   "source": [
    "slope, intercept, r, p, std_err=stats.linregress(y, x)"
   ]
  },
  {
   "cell_type": "code",
   "execution_count": 102,
   "metadata": {},
   "outputs": [],
   "source": [
    "def fill_budget(row):\n",
    "    if not pd.isna(row[\"program_budget\"]):\n",
    "        return row[\"program_budget\"]\n",
    "    else:\n",
    "        return slope * row[\"2021 Food Insecurity #\"] + intercept"
   ]
  },
  {
   "cell_type": "code",
   "execution_count": 103,
   "metadata": {},
   "outputs": [],
   "source": [
    "foodbanks[\"estimated_budget\"]=foodbanks.apply(lambda row: fill_budget(row), axis=1)"
   ]
  },
  {
   "cell_type": "markdown",
   "metadata": {},
   "source": [
    "Save to CSV"
   ]
  },
  {
   "cell_type": "code",
   "execution_count": 100,
   "metadata": {},
   "outputs": [],
   "source": [
    "foodbanks.to_csv(\"input.csv\")"
   ]
  },
  {
   "cell_type": "code",
   "execution_count": null,
   "metadata": {},
   "outputs": [],
   "source": []
  }
 ],
 "metadata": {
  "kernelspec": {
   "display_name": "Python 3 (ipykernel)",
   "language": "python",
   "name": "python3"
  },
  "language_info": {
   "codemirror_mode": {
    "name": "ipython",
    "version": 3
   },
   "file_extension": ".py",
   "mimetype": "text/x-python",
   "name": "python",
   "nbconvert_exporter": "python",
   "pygments_lexer": "ipython3",
   "version": "3.9.12"
  }
 },
 "nbformat": 4,
 "nbformat_minor": 4
}
