{
 "cells": [
  {
   "cell_type": "code",
   "execution_count": 1,
   "metadata": {
    "collapsed": true
   },
   "outputs": [],
   "source": [
    "import numpy as np\n",
    "import pandas as pd\n",
    "from typing import Dict\n",
    "from constants import *\n",
    "import random"
   ]
  },
  {
   "cell_type": "code",
   "execution_count": 3,
   "outputs": [
    {
     "data": {
      "text/plain": "0     0.0\n1     0.0\n2     0.0\n3     0.0\n4     0.0\n     ... \n95    0.0\n96    0.0\n97    0.0\n98    0.0\n99    0.0\nLength: 100, dtype: float64"
     },
     "execution_count": 3,
     "metadata": {},
     "output_type": "execute_result"
    }
   ],
   "source": [
    "pd.Series(np.zeros(100))"
   ],
   "metadata": {
    "collapsed": false,
    "pycharm": {
     "name": "#%%\n"
    }
   }
  },
  {
   "cell_type": "code",
   "execution_count": 3,
   "outputs": [],
   "source": [
    "def mod_beta_random(low: float, high: float, mean: float, std: float, samples: int) -> np.ndarray:\n",
    "    \"\"\"\n",
    "    Generate random numbers from a transformed Beta distribution\n",
    "    Formulas to derive parameters are taken from here\n",
    "    https://stats.stackexchange.com/questions/12232/calculating-the-parameters-of-a-beta-distribution-using-the-mean-and-variance\n",
    "    :param low: the lowest value possible\n",
    "    :param high: the highest value possible\n",
    "    :param mean: the mean of the population\n",
    "    :param std: the standard deviation of the population\n",
    "    :param samples: the number of samples to generate, or a tuple of the output shape\n",
    "    :return: a np.ndarray of size \"shape\" drawn from the distribution\n",
    "    >>> beta = mod_beta_random(0., 10., 4., 1.9, 500)\n",
    "    >>> np.all((0 <= beta) & (beta <= 10))\n",
    "    True\n",
    "    >>> np.all((0.5 <= beta) & (beta <= 9.5))\n",
    "    False\n",
    "    >>> mu = beta.mean()\n",
    "    >>> 3.8 < mu and mu < 4.2\n",
    "    True\n",
    "    >>> std = beta.std()\n",
    "    >>> 1.8 < std and std < 2.0\n",
    "    True\n",
    "    \"\"\"\n",
    "    assert low <= mean <= high, \"Population mean out of bound.\"\n",
    "    mu = (mean - low) / (high - low)\n",
    "    sigma = std / (high - low)\n",
    "    assert sigma ** 2 <= mu * (1 - mu), \"Population standard deviation too large for a Beta distribution to exist.\"\n",
    "    a = ((1 - mu) / (sigma ** 2) - 1 / mu) * (mu ** 2)\n",
    "    b = a * (1 / mu - 1)\n",
    "    beta = np.random.beta(a, b, samples)\n",
    "    beta = low + beta * (high - low)\n",
    "    return beta"
   ],
   "metadata": {
    "collapsed": false,
    "pycharm": {
     "name": "#%%\n"
    }
   }
  },
  {
   "cell_type": "code",
   "execution_count": 4,
   "outputs": [],
   "source": [
    "class Food:\n",
    "    def __init__(self, inventory=None):\n",
    "        \"\"\"\n",
    "        Initialize a Food object which is either empty, or based on a dataframe or total pounds of food.\n",
    "        :param inventory:\n",
    "        >>> Food().df\n",
    "        Empty DataFrame\n",
    "        Columns: [type, remaining_days, quantity]\n",
    "        Index: []\n",
    "        >>> a = Food(5000).df\n",
    "        >>> a\n",
    "                         type  remaining_days  quantity\n",
    "        0             staples               1  8.333333\n",
    "        1             staples               2  8.333333\n",
    "        2             staples               3  8.333333\n",
    "        3             staples               4  8.333333\n",
    "        4             staples               5  8.333333\n",
    "        ..                ...             ...       ...\n",
    "        739  packaged protein             176  6.944444\n",
    "        740  packaged protein             177  6.944444\n",
    "        741  packaged protein             178  6.944444\n",
    "        742  packaged protein             179  6.944444\n",
    "        743  packaged protein             180  6.944444\n",
    "        <BLANKLINE>\n",
    "        [744 rows x 3 columns]\n",
    "        >>> a.equals(Food(a).df)\n",
    "        True\n",
    "        \"\"\"\n",
    "        if inventory is None:\n",
    "            self.df = pd.DataFrame(columns=[\n",
    "                \"type\",\n",
    "                \"remaining_days\",\n",
    "                \"quantity\"\n",
    "            ]).astype(dtype={\n",
    "                \"type\": str,\n",
    "                \"remaining_days\": int,\n",
    "                \"quantity\": float\n",
    "            })\n",
    "        elif isinstance(inventory, pd.DataFrame):\n",
    "            self.df = inventory\n",
    "        elif isinstance(inventory, (float, int)):\n",
    "            type = []\n",
    "            remaining_days = []\n",
    "            quantity = []\n",
    "            key_ls = []\n",
    "            for c in TYPES.keys():\n",
    "                if random.random() < 0.4:\n",
    "                    key_ls.append(c)\n",
    "            for t in key_ls:\n",
    "                # Assume that the remaining shelf lives of foods are uniformly distributed within [1, max_days]\n",
    "                max_days = random.randrange(1, 4)\n",
    "                q = inventory * TYPES[t][\"proportion\"] / max_days\n",
    "                for d in range(1, max_days + 1):\n",
    "                    type.append(t)\n",
    "                    remaining_days.append(d)\n",
    "                    quantity.append(q)\n",
    "            self.df = pd.DataFrame({\"type\": type, \"remaining_days\": remaining_days, \"quantity\": quantity})\n",
    "        else:\n",
    "            raise ValueError(\"Invalid input for initialization\")\n",
    "            #self.df = self.df.set_index([\"type\", \"remaining_days\"])\n",
    "\n",
    "\n",
    "    @classmethod\n",
    "    def generate_donation(cls, mean_total: float):\n",
    "        \"\"\"Generate food donation in a day. The quantity of each type and the total are all random, but their means are given\n",
    "        :return:\n",
    "        >>> food = Food.generate_donation(5000).df\n",
    "        \"\"\"\n",
    "        type = []\n",
    "        quantity = []\n",
    "        remaining_days = []\n",
    "        for t in TYPES.keys():\n",
    "            # Assume that the remaining shelf lives of foods are uniformly distributed within [1, max_days]\n",
    "            mean = mean_total * TYPES[t][\"proportion\"]\n",
    "            low, high, stdev = 0.3 * mean, 5 * mean, 0.5 * mean\n",
    "            beta = mod_beta_random(low, high, mean, stdev, 1).item()\n",
    "            q = beta / TYPES[t][\"max_days\"]\n",
    "            for d in range(1, TYPES[t][\"max_days\"] + 1):\n",
    "                type.append(t)\n",
    "                remaining_days.append(d)\n",
    "                quantity.append(q)\n",
    "        df = pd.DataFrame({\"type\": type, \"remaining_days\": remaining_days, \"quantity\": quantity})\n",
    "        return Food(df)\n",
    "\n",
    "    def sort_by_freshness(self, ascending=False):\n",
    "        \"\"\"\n",
    "        Sort the food in each category by the remaining shelf life. Assume that clients prefer the freshest food,\n",
    "        whereas food bank gives out food that is going to expire in order to reduce waste.\n",
    "        :return:\n",
    "        >>> a = Food(5000)\n",
    "        >>> a.sort_by_freshness()\n",
    "        >>> a.df\n",
    "                                    type  remaining_days   quantity\n",
    "        193  fresh fruits and vegetables              14  35.714286\n",
    "        192  fresh fruits and vegetables              13  35.714286\n",
    "        191  fresh fruits and vegetables              12  35.714286\n",
    "        190  fresh fruits and vegetables              11  35.714286\n",
    "        189  fresh fruits and vegetables              10  35.714286\n",
    "        ..                           ...             ...        ...\n",
    "        4                        staples               5   8.333333\n",
    "        3                        staples               4   8.333333\n",
    "        2                        staples               3   8.333333\n",
    "        1                        staples               2   8.333333\n",
    "        0                        staples               1   8.333333\n",
    "        <BLANKLINE>\n",
    "        [744 rows x 3 columns]\n",
    "        \"\"\"\n",
    "        self.df = self.df.sort_values(by=[\"type\", \"remaining_days\"], ascending=[True, ascending])\n",
    "\n",
    "    def quality_control(self, num_days=1) -> Dict[str, float]:\n",
    "        \"\"\" Subtract some days from the remaining shelf life of the food, remove the expired food from the inventory,\n",
    "        and record the quantity of waste in each category.\n",
    "        :param num_days: number of days since the last quality check\n",
    "        :return: a dictionary storing the wasted food in each category\n",
    "        >>> a = Food(5000)\n",
    "        >>> sum(a.quality_control(float(\"inf\")).values()) == 5000\n",
    "        True\n",
    "        >>> res = a.quality_control(20)\n",
    "        >>> all([a.quality_control(10)[key] < value < a.quality_control(30)[key] for key, value in res.items()])\n",
    "        True\n",
    "        >>> a.quality_control(7)\n",
    "        {FFV: 250.0, 'fresh protein': 350.0, 'packaged fruits and vegetables': 24.305555555555557, 'packaged protein': 48.611111111111114, 'staples': 58.333333333333336}\n",
    "        \"\"\"\n",
    "        self.df[\"remaining_days\"] -= num_days\n",
    "        mask = self.df[\"remaining_days\"] <= 0\n",
    "        waste = self.df[mask]\n",
    "        #waste_counter = waste.groupby([\"type\"])[\"quantity\"].agg(\"sum\")[\"quantity\"].to_dict()\n",
    "        waste_counter = waste.groupby([\"type\"])[\"quantity\"].agg(\"sum\").to_dict()\n",
    "        self.df = self.df[~mask]\n",
    "        return waste_counter\n",
    "\n",
    "    def add(self, other):\n",
    "        \"\"\" Add a new batch of food to inventory\n",
    "        :param other:\n",
    "        :return:\n",
    "\n",
    "        \"\"\"\n",
    "        if isinstance(other, Food):\n",
    "            other = other.df\n",
    "        self.df = self.df.set_index([\"type\", \"remaining_days\"]).add(other.set_index([\"type\", \"remaining_days\"]),\n",
    "                                                                    fill_value=0).reset_index()\n",
    "\n",
    "    def subtract(self, other):\n",
    "        \"\"\"\n",
    "        Subtract an existing batch of food from inventory\n",
    "        :param other:\n",
    "        :return:\n",
    "        \"\"\"\n",
    "        if isinstance(other, Food):\n",
    "            other = other.df\n",
    "        self.df = self.df.set_index([\"type\", \"remaining_days\"]).sub(other.set_index([\"type\", \"remaining_days\"]),\n",
    "                                                                    fill_value=0).reset_index()\n",
    "        # if not valid: raise ValueError(\"Some food items does not exist or are not enough\")"
   ],
   "metadata": {
    "collapsed": false,
    "pycharm": {
     "name": "#%%\n"
    }
   }
  },
  {
   "cell_type": "code",
   "execution_count": 5,
   "outputs": [
    {
     "data": {
      "text/plain": "Empty DataFrame\nColumns: [type, remaining_days, quantity]\nIndex: []",
      "text/html": "<div>\n<style scoped>\n    .dataframe tbody tr th:only-of-type {\n        vertical-align: middle;\n    }\n\n    .dataframe tbody tr th {\n        vertical-align: top;\n    }\n\n    .dataframe thead th {\n        text-align: right;\n    }\n</style>\n<table border=\"1\" class=\"dataframe\">\n  <thead>\n    <tr style=\"text-align: right;\">\n      <th></th>\n      <th>type</th>\n      <th>remaining_days</th>\n      <th>quantity</th>\n    </tr>\n  </thead>\n  <tbody>\n  </tbody>\n</table>\n</div>"
     },
     "execution_count": 5,
     "metadata": {},
     "output_type": "execute_result"
    }
   ],
   "source": [
    "a = Food()\n",
    "a.df"
   ],
   "metadata": {
    "collapsed": false,
    "pycharm": {
     "name": "#%%\n"
    }
   }
  },
  {
   "cell_type": "code",
   "execution_count": 35,
   "outputs": [
    {
     "data": {
      "text/plain": "                          type  remaining_days  quantity\n0  fresh_fruits_and_vegetables               1     250.0\n1  fresh_fruits_and_vegetables               2     250.0\n2                fresh_protein               1     250.0\n3                fresh_protein               2     250.0",
      "text/html": "<div>\n<style scoped>\n    .dataframe tbody tr th:only-of-type {\n        vertical-align: middle;\n    }\n\n    .dataframe tbody tr th {\n        vertical-align: top;\n    }\n\n    .dataframe thead th {\n        text-align: right;\n    }\n</style>\n<table border=\"1\" class=\"dataframe\">\n  <thead>\n    <tr style=\"text-align: right;\">\n      <th></th>\n      <th>type</th>\n      <th>remaining_days</th>\n      <th>quantity</th>\n    </tr>\n  </thead>\n  <tbody>\n    <tr>\n      <th>0</th>\n      <td>fresh_fruits_and_vegetables</td>\n      <td>1</td>\n      <td>250.0</td>\n    </tr>\n    <tr>\n      <th>1</th>\n      <td>fresh_fruits_and_vegetables</td>\n      <td>2</td>\n      <td>250.0</td>\n    </tr>\n    <tr>\n      <th>2</th>\n      <td>fresh_protein</td>\n      <td>1</td>\n      <td>250.0</td>\n    </tr>\n    <tr>\n      <th>3</th>\n      <td>fresh_protein</td>\n      <td>2</td>\n      <td>250.0</td>\n    </tr>\n  </tbody>\n</table>\n</div>"
     },
     "execution_count": 35,
     "metadata": {},
     "output_type": "execute_result"
    }
   ],
   "source": [
    "b = Food(5000)\n",
    "b.df"
   ],
   "metadata": {
    "collapsed": false,
    "pycharm": {
     "name": "#%%\n"
    }
   }
  },
  {
   "cell_type": "code",
   "execution_count": null,
   "outputs": [],
   "source": [
    "type(b.df[\"type\"])"
   ],
   "metadata": {
    "collapsed": false,
    "pycharm": {
     "name": "#%%\n"
    }
   }
  },
  {
   "cell_type": "code",
   "execution_count": null,
   "outputs": [],
   "source": [
    "a.subtract(b)\n",
    "a.df"
   ],
   "metadata": {
    "collapsed": false,
    "pycharm": {
     "name": "#%%\n"
    }
   }
  },
  {
   "cell_type": "code",
   "execution_count": 1,
   "outputs": [],
   "source": [
    "import pandas as pd\n",
    "import numpy as np\n",
    "from constants import *\n",
    "from utils import *\n",
    "#indexes = pd.MultiIndex.from_tuples([['paris']], names=['name'])\n",
    "#columns = pd.MultiIndex.from_arrays([['route', 'action', 'action'], ['type', 'source', 'destination']], names=['first', 'second'])\n",
    "\n",
    "#df = pd.DataFrame([[2, 3, 4]], index=indexes, columns=columns)\n",
    "\n",
    "#print(df)"
   ],
   "metadata": {
    "collapsed": false,
    "pycharm": {
     "name": "#%%\n"
    }
   }
  },
  {
   "cell_type": "code",
   "execution_count": 2,
   "outputs": [
    {
     "data": {
      "text/plain": "Empty DataFrame\nColumns: [(num_people, ), (staples, demand), (staples, secured), (staples, lacking), (staples, purchased), (fruits_and_vegetables, demand), (fruits_and_vegetables, secured), (fruits_and_vegetables, lacking), (fruits_and_vegetables, purchased_fresh), (fruits_and_vegetables, purchased_packaged), (protein, demand), (protein, secured), (protein, lacking), (protein, purchased_fresh), (protein, purchased_packaged)]\nIndex: []",
      "text/html": "<div>\n<style scoped>\n    .dataframe tbody tr th:only-of-type {\n        vertical-align: middle;\n    }\n\n    .dataframe tbody tr th {\n        vertical-align: top;\n    }\n\n    .dataframe thead tr th {\n        text-align: left;\n    }\n</style>\n<table border=\"1\" class=\"dataframe\">\n  <thead>\n    <tr>\n      <th></th>\n      <th>num_people</th>\n      <th colspan=\"4\" halign=\"left\">staples</th>\n      <th colspan=\"5\" halign=\"left\">fruits_and_vegetables</th>\n      <th colspan=\"5\" halign=\"left\">protein</th>\n    </tr>\n    <tr>\n      <th></th>\n      <th></th>\n      <th>demand</th>\n      <th>secured</th>\n      <th>lacking</th>\n      <th>purchased</th>\n      <th>demand</th>\n      <th>secured</th>\n      <th>lacking</th>\n      <th>purchased_fresh</th>\n      <th>purchased_packaged</th>\n      <th>demand</th>\n      <th>secured</th>\n      <th>lacking</th>\n      <th>purchased_fresh</th>\n      <th>purchased_packaged</th>\n    </tr>\n  </thead>\n  <tbody>\n  </tbody>\n</table>\n</div>"
     },
     "execution_count": 2,
     "metadata": {},
     "output_type": "execute_result"
    }
   ],
   "source": [
    "columns = [(\"num_people\", \"\"), (STP, \"demand\"),(STP, \"secured\"),(STP, \"lacking\"),(STP, \"purchased\"),(FV, \"demand\"),(FV, \"secured\"),(FV, \"lacking\"),(FV, \"purchased_fresh\"),(FV, \"purchased_packaged\"),\n",
    "           (PT, \"demand\"), (PT, \"secured\"),(PT, \"lacking\"),(PT, \"purchased_fresh\"),(PT, \"purchased_packaged\")]\n",
    "df = pd.DataFrame(columns = pd.MultiIndex.from_tuples(columns))\n",
    "#df = pd.DataFrame(columns = columns)\n",
    "df"
   ],
   "metadata": {
    "collapsed": false,
    "pycharm": {
     "name": "#%%\n"
    }
   }
  },
  {
   "cell_type": "code",
   "execution_count": 2,
   "outputs": [],
   "source": [],
   "metadata": {
    "collapsed": false,
    "pycharm": {
     "name": "#%%\n"
    }
   }
  },
  {
   "cell_type": "code",
   "execution_count": 3,
   "outputs": [],
   "source": [
    "df.loc[:, (STP, \"lacking\")] = np.random.default_rng().normal(loc=0, scale=1, size=100)"
   ],
   "metadata": {
    "collapsed": false,
    "pycharm": {
     "name": "#%%\n"
    }
   }
  },
  {
   "cell_type": "code",
   "execution_count": 4,
   "outputs": [
    {
     "data": {
      "text/plain": "   num_people staples                             fruits_and_vegetables  \\\n               demand secured   lacking purchased                demand   \n0         NaN     NaN     NaN -0.794148       NaN                   NaN   \n1         NaN     NaN     NaN -0.934035       NaN                   NaN   \n2         NaN     NaN     NaN -0.172259       NaN                   NaN   \n3         NaN     NaN     NaN -0.255360       NaN                   NaN   \n4         NaN     NaN     NaN -0.253643       NaN                   NaN   \n..        ...     ...     ...       ...       ...                   ...   \n95        NaN     NaN     NaN  1.295553       NaN                   NaN   \n96        NaN     NaN     NaN  0.805722       NaN                   NaN   \n97        NaN     NaN     NaN -0.341367       NaN                   NaN   \n98        NaN     NaN     NaN  1.152094       NaN                   NaN   \n99        NaN     NaN     NaN  1.643735       NaN                   NaN   \n\n                                                      protein                  \\\n   secured lacking purchased_fresh purchased_packaged  demand secured lacking   \n0      NaN     NaN             NaN                NaN     NaN     NaN     NaN   \n1      NaN     NaN             NaN                NaN     NaN     NaN     NaN   \n2      NaN     NaN             NaN                NaN     NaN     NaN     NaN   \n3      NaN     NaN             NaN                NaN     NaN     NaN     NaN   \n4      NaN     NaN             NaN                NaN     NaN     NaN     NaN   \n..     ...     ...             ...                ...     ...     ...     ...   \n95     NaN     NaN             NaN                NaN     NaN     NaN     NaN   \n96     NaN     NaN             NaN                NaN     NaN     NaN     NaN   \n97     NaN     NaN             NaN                NaN     NaN     NaN     NaN   \n98     NaN     NaN             NaN                NaN     NaN     NaN     NaN   \n99     NaN     NaN             NaN                NaN     NaN     NaN     NaN   \n\n                                      staples  \n   purchased_fresh purchased_packaged    hhhh  \n0              NaN                NaN     666  \n1              NaN                NaN     666  \n2              NaN                NaN     666  \n3              NaN                NaN     666  \n4              NaN                NaN     666  \n..             ...                ...     ...  \n95             NaN                NaN     666  \n96             NaN                NaN     666  \n97             NaN                NaN     666  \n98             NaN                NaN     666  \n99             NaN                NaN     666  \n\n[100 rows x 16 columns]",
      "text/html": "<div>\n<style scoped>\n    .dataframe tbody tr th:only-of-type {\n        vertical-align: middle;\n    }\n\n    .dataframe tbody tr th {\n        vertical-align: top;\n    }\n\n    .dataframe thead tr th {\n        text-align: left;\n    }\n</style>\n<table border=\"1\" class=\"dataframe\">\n  <thead>\n    <tr>\n      <th></th>\n      <th>num_people</th>\n      <th colspan=\"4\" halign=\"left\">staples</th>\n      <th colspan=\"5\" halign=\"left\">fruits_and_vegetables</th>\n      <th colspan=\"5\" halign=\"left\">protein</th>\n      <th>staples</th>\n    </tr>\n    <tr>\n      <th></th>\n      <th></th>\n      <th>demand</th>\n      <th>secured</th>\n      <th>lacking</th>\n      <th>purchased</th>\n      <th>demand</th>\n      <th>secured</th>\n      <th>lacking</th>\n      <th>purchased_fresh</th>\n      <th>purchased_packaged</th>\n      <th>demand</th>\n      <th>secured</th>\n      <th>lacking</th>\n      <th>purchased_fresh</th>\n      <th>purchased_packaged</th>\n      <th>hhhh</th>\n    </tr>\n  </thead>\n  <tbody>\n    <tr>\n      <th>0</th>\n      <td>NaN</td>\n      <td>NaN</td>\n      <td>NaN</td>\n      <td>-0.794148</td>\n      <td>NaN</td>\n      <td>NaN</td>\n      <td>NaN</td>\n      <td>NaN</td>\n      <td>NaN</td>\n      <td>NaN</td>\n      <td>NaN</td>\n      <td>NaN</td>\n      <td>NaN</td>\n      <td>NaN</td>\n      <td>NaN</td>\n      <td>666</td>\n    </tr>\n    <tr>\n      <th>1</th>\n      <td>NaN</td>\n      <td>NaN</td>\n      <td>NaN</td>\n      <td>-0.934035</td>\n      <td>NaN</td>\n      <td>NaN</td>\n      <td>NaN</td>\n      <td>NaN</td>\n      <td>NaN</td>\n      <td>NaN</td>\n      <td>NaN</td>\n      <td>NaN</td>\n      <td>NaN</td>\n      <td>NaN</td>\n      <td>NaN</td>\n      <td>666</td>\n    </tr>\n    <tr>\n      <th>2</th>\n      <td>NaN</td>\n      <td>NaN</td>\n      <td>NaN</td>\n      <td>-0.172259</td>\n      <td>NaN</td>\n      <td>NaN</td>\n      <td>NaN</td>\n      <td>NaN</td>\n      <td>NaN</td>\n      <td>NaN</td>\n      <td>NaN</td>\n      <td>NaN</td>\n      <td>NaN</td>\n      <td>NaN</td>\n      <td>NaN</td>\n      <td>666</td>\n    </tr>\n    <tr>\n      <th>3</th>\n      <td>NaN</td>\n      <td>NaN</td>\n      <td>NaN</td>\n      <td>-0.255360</td>\n      <td>NaN</td>\n      <td>NaN</td>\n      <td>NaN</td>\n      <td>NaN</td>\n      <td>NaN</td>\n      <td>NaN</td>\n      <td>NaN</td>\n      <td>NaN</td>\n      <td>NaN</td>\n      <td>NaN</td>\n      <td>NaN</td>\n      <td>666</td>\n    </tr>\n    <tr>\n      <th>4</th>\n      <td>NaN</td>\n      <td>NaN</td>\n      <td>NaN</td>\n      <td>-0.253643</td>\n      <td>NaN</td>\n      <td>NaN</td>\n      <td>NaN</td>\n      <td>NaN</td>\n      <td>NaN</td>\n      <td>NaN</td>\n      <td>NaN</td>\n      <td>NaN</td>\n      <td>NaN</td>\n      <td>NaN</td>\n      <td>NaN</td>\n      <td>666</td>\n    </tr>\n    <tr>\n      <th>...</th>\n      <td>...</td>\n      <td>...</td>\n      <td>...</td>\n      <td>...</td>\n      <td>...</td>\n      <td>...</td>\n      <td>...</td>\n      <td>...</td>\n      <td>...</td>\n      <td>...</td>\n      <td>...</td>\n      <td>...</td>\n      <td>...</td>\n      <td>...</td>\n      <td>...</td>\n      <td>...</td>\n    </tr>\n    <tr>\n      <th>95</th>\n      <td>NaN</td>\n      <td>NaN</td>\n      <td>NaN</td>\n      <td>1.295553</td>\n      <td>NaN</td>\n      <td>NaN</td>\n      <td>NaN</td>\n      <td>NaN</td>\n      <td>NaN</td>\n      <td>NaN</td>\n      <td>NaN</td>\n      <td>NaN</td>\n      <td>NaN</td>\n      <td>NaN</td>\n      <td>NaN</td>\n      <td>666</td>\n    </tr>\n    <tr>\n      <th>96</th>\n      <td>NaN</td>\n      <td>NaN</td>\n      <td>NaN</td>\n      <td>0.805722</td>\n      <td>NaN</td>\n      <td>NaN</td>\n      <td>NaN</td>\n      <td>NaN</td>\n      <td>NaN</td>\n      <td>NaN</td>\n      <td>NaN</td>\n      <td>NaN</td>\n      <td>NaN</td>\n      <td>NaN</td>\n      <td>NaN</td>\n      <td>666</td>\n    </tr>\n    <tr>\n      <th>97</th>\n      <td>NaN</td>\n      <td>NaN</td>\n      <td>NaN</td>\n      <td>-0.341367</td>\n      <td>NaN</td>\n      <td>NaN</td>\n      <td>NaN</td>\n      <td>NaN</td>\n      <td>NaN</td>\n      <td>NaN</td>\n      <td>NaN</td>\n      <td>NaN</td>\n      <td>NaN</td>\n      <td>NaN</td>\n      <td>NaN</td>\n      <td>666</td>\n    </tr>\n    <tr>\n      <th>98</th>\n      <td>NaN</td>\n      <td>NaN</td>\n      <td>NaN</td>\n      <td>1.152094</td>\n      <td>NaN</td>\n      <td>NaN</td>\n      <td>NaN</td>\n      <td>NaN</td>\n      <td>NaN</td>\n      <td>NaN</td>\n      <td>NaN</td>\n      <td>NaN</td>\n      <td>NaN</td>\n      <td>NaN</td>\n      <td>NaN</td>\n      <td>666</td>\n    </tr>\n    <tr>\n      <th>99</th>\n      <td>NaN</td>\n      <td>NaN</td>\n      <td>NaN</td>\n      <td>1.643735</td>\n      <td>NaN</td>\n      <td>NaN</td>\n      <td>NaN</td>\n      <td>NaN</td>\n      <td>NaN</td>\n      <td>NaN</td>\n      <td>NaN</td>\n      <td>NaN</td>\n      <td>NaN</td>\n      <td>NaN</td>\n      <td>NaN</td>\n      <td>666</td>\n    </tr>\n  </tbody>\n</table>\n<p>100 rows × 16 columns</p>\n</div>"
     },
     "execution_count": 4,
     "metadata": {},
     "output_type": "execute_result"
    }
   ],
   "source": [
    "df[(STP,\"hhhh\")] = 666\n",
    "df"
   ],
   "metadata": {
    "collapsed": false,
    "pycharm": {
     "name": "#%%\n"
    }
   }
  },
  {
   "cell_type": "code",
   "execution_count": 2,
   "outputs": [],
   "source": [
    "rng = np.random.default_rng()\n",
    "columns = [(\"num_people\", \"\"), (STP, \"total\"), (STP, \"base_secured\"), (STP, \"secured\"), (STP, \"demand\"),\n",
    "                   (STP, \"purchased\"),\n",
    "                   (FV, \"total\"), (FV, \"base_secured\"), (FV, \"secured\"), (FV, \"demand\"), (FV, \"demand_alt\"),\n",
    "                   (FV, \"purchased_fresh\"), (FV, \"purchased_packaged\"),\n",
    "                   (PT, \"total\"), (PT, \"base_secured\"), (PT, \"secured\"), (PT, \"demand\"), (PT, \"demand_alt\"),\n",
    "                   (PT, \"purchased_fresh\"), (PT, \"purchased_packaged\")]\n",
    "clients = pd.DataFrame(columns=pd.MultiIndex.from_tuples(columns))\n",
    "clients[(\"num_people\", \"\")] = rng.choice(range(1, 11), 100, p=FAMILY_DISTRIBUTION)\n",
    "for tp, value in PERSON_WEEKLY_DEMAND.items():\n",
    "    mean, std = value[\"mean\"], value[\"std\"]\n",
    "    low, high = 0.5 * mean, 2 * mean\n",
    "    clients[(tp, \"total\")] = mod_beta_random(low, high, mean, std, 100) * clients[\n",
    "        (\"num_people\", \"\")]"
   ],
   "metadata": {
    "collapsed": false,
    "pycharm": {
     "name": "#%%\n"
    }
   }
  },
  {
   "cell_type": "code",
   "execution_count": 3,
   "outputs": [
    {
     "data": {
      "text/plain": "   num_people    staples                                        \\\n                   total base_secured secured demand purchased   \n0           2  10.118659          NaN     NaN    NaN       NaN   \n1           3  16.618000          NaN     NaN    NaN       NaN   \n2           2  10.634335          NaN     NaN    NaN       NaN   \n3           1   5.280491          NaN     NaN    NaN       NaN   \n4           1   4.772332          NaN     NaN    NaN       NaN   \n..        ...        ...          ...     ...    ...       ...   \n95          2  10.424837          NaN     NaN    NaN       NaN   \n96          2  10.831011          NaN     NaN    NaN       NaN   \n97          1   4.853918          NaN     NaN    NaN       NaN   \n98          1   5.710993          NaN     NaN    NaN       NaN   \n99          2  11.116763          NaN     NaN    NaN       NaN   \n\n   fruits_and_vegetables                                         \\\n                   total base_secured secured demand demand_alt   \n0              25.421769          NaN     NaN    NaN        NaN   \n1              36.312915          NaN     NaN    NaN        NaN   \n2              26.975094          NaN     NaN    NaN        NaN   \n3              11.667134          NaN     NaN    NaN        NaN   \n4              12.866751          NaN     NaN    NaN        NaN   \n..                   ...          ...     ...    ...        ...   \n95             24.029030          NaN     NaN    NaN        NaN   \n96             24.870935          NaN     NaN    NaN        NaN   \n97             13.897343          NaN     NaN    NaN        NaN   \n98             13.049427          NaN     NaN    NaN        NaN   \n99             23.184371          NaN     NaN    NaN        NaN   \n\n                                         protein                              \\\n   purchased_fresh purchased_packaged      total base_secured secured demand   \n0              NaN                NaN  29.038465          NaN     NaN    NaN   \n1              NaN                NaN  31.983297          NaN     NaN    NaN   \n2              NaN                NaN  25.629375          NaN     NaN    NaN   \n3              NaN                NaN  11.957561          NaN     NaN    NaN   \n4              NaN                NaN  12.212004          NaN     NaN    NaN   \n..             ...                ...        ...          ...     ...    ...   \n95             NaN                NaN  24.249990          NaN     NaN    NaN   \n96             NaN                NaN  24.015847          NaN     NaN    NaN   \n97             NaN                NaN  12.775050          NaN     NaN    NaN   \n98             NaN                NaN  12.965285          NaN     NaN    NaN   \n99             NaN                NaN  23.709889          NaN     NaN    NaN   \n\n                                                  \n   demand_alt purchased_fresh purchased_packaged  \n0         NaN             NaN                NaN  \n1         NaN             NaN                NaN  \n2         NaN             NaN                NaN  \n3         NaN             NaN                NaN  \n4         NaN             NaN                NaN  \n..        ...             ...                ...  \n95        NaN             NaN                NaN  \n96        NaN             NaN                NaN  \n97        NaN             NaN                NaN  \n98        NaN             NaN                NaN  \n99        NaN             NaN                NaN  \n\n[100 rows x 20 columns]",
      "text/html": "<div>\n<style scoped>\n    .dataframe tbody tr th:only-of-type {\n        vertical-align: middle;\n    }\n\n    .dataframe tbody tr th {\n        vertical-align: top;\n    }\n\n    .dataframe thead tr th {\n        text-align: left;\n    }\n</style>\n<table border=\"1\" class=\"dataframe\">\n  <thead>\n    <tr>\n      <th></th>\n      <th>num_people</th>\n      <th colspan=\"5\" halign=\"left\">staples</th>\n      <th colspan=\"7\" halign=\"left\">fruits_and_vegetables</th>\n      <th colspan=\"7\" halign=\"left\">protein</th>\n    </tr>\n    <tr>\n      <th></th>\n      <th></th>\n      <th>total</th>\n      <th>base_secured</th>\n      <th>secured</th>\n      <th>demand</th>\n      <th>purchased</th>\n      <th>total</th>\n      <th>base_secured</th>\n      <th>secured</th>\n      <th>demand</th>\n      <th>demand_alt</th>\n      <th>purchased_fresh</th>\n      <th>purchased_packaged</th>\n      <th>total</th>\n      <th>base_secured</th>\n      <th>secured</th>\n      <th>demand</th>\n      <th>demand_alt</th>\n      <th>purchased_fresh</th>\n      <th>purchased_packaged</th>\n    </tr>\n  </thead>\n  <tbody>\n    <tr>\n      <th>0</th>\n      <td>2</td>\n      <td>10.118659</td>\n      <td>NaN</td>\n      <td>NaN</td>\n      <td>NaN</td>\n      <td>NaN</td>\n      <td>25.421769</td>\n      <td>NaN</td>\n      <td>NaN</td>\n      <td>NaN</td>\n      <td>NaN</td>\n      <td>NaN</td>\n      <td>NaN</td>\n      <td>29.038465</td>\n      <td>NaN</td>\n      <td>NaN</td>\n      <td>NaN</td>\n      <td>NaN</td>\n      <td>NaN</td>\n      <td>NaN</td>\n    </tr>\n    <tr>\n      <th>1</th>\n      <td>3</td>\n      <td>16.618000</td>\n      <td>NaN</td>\n      <td>NaN</td>\n      <td>NaN</td>\n      <td>NaN</td>\n      <td>36.312915</td>\n      <td>NaN</td>\n      <td>NaN</td>\n      <td>NaN</td>\n      <td>NaN</td>\n      <td>NaN</td>\n      <td>NaN</td>\n      <td>31.983297</td>\n      <td>NaN</td>\n      <td>NaN</td>\n      <td>NaN</td>\n      <td>NaN</td>\n      <td>NaN</td>\n      <td>NaN</td>\n    </tr>\n    <tr>\n      <th>2</th>\n      <td>2</td>\n      <td>10.634335</td>\n      <td>NaN</td>\n      <td>NaN</td>\n      <td>NaN</td>\n      <td>NaN</td>\n      <td>26.975094</td>\n      <td>NaN</td>\n      <td>NaN</td>\n      <td>NaN</td>\n      <td>NaN</td>\n      <td>NaN</td>\n      <td>NaN</td>\n      <td>25.629375</td>\n      <td>NaN</td>\n      <td>NaN</td>\n      <td>NaN</td>\n      <td>NaN</td>\n      <td>NaN</td>\n      <td>NaN</td>\n    </tr>\n    <tr>\n      <th>3</th>\n      <td>1</td>\n      <td>5.280491</td>\n      <td>NaN</td>\n      <td>NaN</td>\n      <td>NaN</td>\n      <td>NaN</td>\n      <td>11.667134</td>\n      <td>NaN</td>\n      <td>NaN</td>\n      <td>NaN</td>\n      <td>NaN</td>\n      <td>NaN</td>\n      <td>NaN</td>\n      <td>11.957561</td>\n      <td>NaN</td>\n      <td>NaN</td>\n      <td>NaN</td>\n      <td>NaN</td>\n      <td>NaN</td>\n      <td>NaN</td>\n    </tr>\n    <tr>\n      <th>4</th>\n      <td>1</td>\n      <td>4.772332</td>\n      <td>NaN</td>\n      <td>NaN</td>\n      <td>NaN</td>\n      <td>NaN</td>\n      <td>12.866751</td>\n      <td>NaN</td>\n      <td>NaN</td>\n      <td>NaN</td>\n      <td>NaN</td>\n      <td>NaN</td>\n      <td>NaN</td>\n      <td>12.212004</td>\n      <td>NaN</td>\n      <td>NaN</td>\n      <td>NaN</td>\n      <td>NaN</td>\n      <td>NaN</td>\n      <td>NaN</td>\n    </tr>\n    <tr>\n      <th>...</th>\n      <td>...</td>\n      <td>...</td>\n      <td>...</td>\n      <td>...</td>\n      <td>...</td>\n      <td>...</td>\n      <td>...</td>\n      <td>...</td>\n      <td>...</td>\n      <td>...</td>\n      <td>...</td>\n      <td>...</td>\n      <td>...</td>\n      <td>...</td>\n      <td>...</td>\n      <td>...</td>\n      <td>...</td>\n      <td>...</td>\n      <td>...</td>\n      <td>...</td>\n    </tr>\n    <tr>\n      <th>95</th>\n      <td>2</td>\n      <td>10.424837</td>\n      <td>NaN</td>\n      <td>NaN</td>\n      <td>NaN</td>\n      <td>NaN</td>\n      <td>24.029030</td>\n      <td>NaN</td>\n      <td>NaN</td>\n      <td>NaN</td>\n      <td>NaN</td>\n      <td>NaN</td>\n      <td>NaN</td>\n      <td>24.249990</td>\n      <td>NaN</td>\n      <td>NaN</td>\n      <td>NaN</td>\n      <td>NaN</td>\n      <td>NaN</td>\n      <td>NaN</td>\n    </tr>\n    <tr>\n      <th>96</th>\n      <td>2</td>\n      <td>10.831011</td>\n      <td>NaN</td>\n      <td>NaN</td>\n      <td>NaN</td>\n      <td>NaN</td>\n      <td>24.870935</td>\n      <td>NaN</td>\n      <td>NaN</td>\n      <td>NaN</td>\n      <td>NaN</td>\n      <td>NaN</td>\n      <td>NaN</td>\n      <td>24.015847</td>\n      <td>NaN</td>\n      <td>NaN</td>\n      <td>NaN</td>\n      <td>NaN</td>\n      <td>NaN</td>\n      <td>NaN</td>\n    </tr>\n    <tr>\n      <th>97</th>\n      <td>1</td>\n      <td>4.853918</td>\n      <td>NaN</td>\n      <td>NaN</td>\n      <td>NaN</td>\n      <td>NaN</td>\n      <td>13.897343</td>\n      <td>NaN</td>\n      <td>NaN</td>\n      <td>NaN</td>\n      <td>NaN</td>\n      <td>NaN</td>\n      <td>NaN</td>\n      <td>12.775050</td>\n      <td>NaN</td>\n      <td>NaN</td>\n      <td>NaN</td>\n      <td>NaN</td>\n      <td>NaN</td>\n      <td>NaN</td>\n    </tr>\n    <tr>\n      <th>98</th>\n      <td>1</td>\n      <td>5.710993</td>\n      <td>NaN</td>\n      <td>NaN</td>\n      <td>NaN</td>\n      <td>NaN</td>\n      <td>13.049427</td>\n      <td>NaN</td>\n      <td>NaN</td>\n      <td>NaN</td>\n      <td>NaN</td>\n      <td>NaN</td>\n      <td>NaN</td>\n      <td>12.965285</td>\n      <td>NaN</td>\n      <td>NaN</td>\n      <td>NaN</td>\n      <td>NaN</td>\n      <td>NaN</td>\n      <td>NaN</td>\n    </tr>\n    <tr>\n      <th>99</th>\n      <td>2</td>\n      <td>11.116763</td>\n      <td>NaN</td>\n      <td>NaN</td>\n      <td>NaN</td>\n      <td>NaN</td>\n      <td>23.184371</td>\n      <td>NaN</td>\n      <td>NaN</td>\n      <td>NaN</td>\n      <td>NaN</td>\n      <td>NaN</td>\n      <td>NaN</td>\n      <td>23.709889</td>\n      <td>NaN</td>\n      <td>NaN</td>\n      <td>NaN</td>\n      <td>NaN</td>\n      <td>NaN</td>\n      <td>NaN</td>\n    </tr>\n  </tbody>\n</table>\n<p>100 rows × 20 columns</p>\n</div>"
     },
     "execution_count": 3,
     "metadata": {},
     "output_type": "execute_result"
    }
   ],
   "source": [
    "clients"
   ],
   "metadata": {
    "collapsed": false,
    "pycharm": {
     "name": "#%%\n"
    }
   }
  },
  {
   "cell_type": "code",
   "execution_count": 42,
   "outputs": [
    {
     "data": {
      "text/plain": "   num_people    staples                                        \\\n                   total base_secured secured demand purchased   \n0           1   4.784810     0.739065     NaN    NaN       NaN   \n1           3  13.893051     0.657388     NaN    NaN       NaN   \n2           4  18.743293     0.728415     NaN    NaN       NaN   \n3           1   4.490979     0.546357     NaN    NaN       NaN   \n4           5  25.975730     0.562824     NaN    NaN       NaN   \n..        ...        ...          ...     ...    ...       ...   \n95          2   8.995218     0.329766     NaN    NaN       NaN   \n96          3  15.958354     0.636235     NaN    NaN       NaN   \n97          2  10.770814     0.412172     NaN    NaN       NaN   \n98          1   5.370961     0.769259     NaN    NaN       NaN   \n99          1   5.221444     0.657785     NaN    NaN       NaN   \n\n   fruits_and_vegetables                                         \\\n                   total base_secured secured demand demand_alt   \n0              13.312765     0.664448     NaN    NaN        NaN   \n1              43.192453     0.640523     NaN    NaN        NaN   \n2              56.779748     0.336609     NaN    NaN        NaN   \n3              14.338204     0.522459     NaN    NaN        NaN   \n4              74.147372     0.593564     NaN    NaN        NaN   \n..                   ...          ...     ...    ...        ...   \n95             25.783559     0.750226     NaN    NaN        NaN   \n96             41.845409     0.488774     NaN    NaN        NaN   \n97             27.031331     0.475196     NaN    NaN        NaN   \n98             12.733990     0.363060     NaN    NaN        NaN   \n99             12.483846     0.480230     NaN    NaN        NaN   \n\n                                         protein                              \\\n   purchased_fresh purchased_packaged      total base_secured secured demand   \n0              NaN                NaN  11.797404     0.480223     NaN    NaN   \n1              NaN                NaN  39.999795     0.707331     NaN    NaN   \n2              NaN                NaN  51.375704     0.383128     NaN    NaN   \n3              NaN                NaN  14.353721     0.615827     NaN    NaN   \n4              NaN                NaN  67.321619     0.398867     NaN    NaN   \n..             ...                ...        ...          ...     ...    ...   \n95             NaN                NaN  22.823105     0.485960     NaN    NaN   \n96             NaN                NaN  35.818854     0.751570     NaN    NaN   \n97             NaN                NaN  26.235245     0.348593     NaN    NaN   \n98             NaN                NaN  10.818363     0.405680     NaN    NaN   \n99             NaN                NaN  13.164161     0.671345     NaN    NaN   \n\n                                                  \n   demand_alt purchased_fresh purchased_packaged  \n0         NaN             NaN                NaN  \n1         NaN             NaN                NaN  \n2         NaN             NaN                NaN  \n3         NaN             NaN                NaN  \n4         NaN             NaN                NaN  \n..        ...             ...                ...  \n95        NaN             NaN                NaN  \n96        NaN             NaN                NaN  \n97        NaN             NaN                NaN  \n98        NaN             NaN                NaN  \n99        NaN             NaN                NaN  \n\n[100 rows x 20 columns]",
      "text/html": "<div>\n<style scoped>\n    .dataframe tbody tr th:only-of-type {\n        vertical-align: middle;\n    }\n\n    .dataframe tbody tr th {\n        vertical-align: top;\n    }\n\n    .dataframe thead tr th {\n        text-align: left;\n    }\n</style>\n<table border=\"1\" class=\"dataframe\">\n  <thead>\n    <tr>\n      <th></th>\n      <th>num_people</th>\n      <th colspan=\"5\" halign=\"left\">staples</th>\n      <th colspan=\"7\" halign=\"left\">fruits_and_vegetables</th>\n      <th colspan=\"7\" halign=\"left\">protein</th>\n    </tr>\n    <tr>\n      <th></th>\n      <th></th>\n      <th>total</th>\n      <th>base_secured</th>\n      <th>secured</th>\n      <th>demand</th>\n      <th>purchased</th>\n      <th>total</th>\n      <th>base_secured</th>\n      <th>secured</th>\n      <th>demand</th>\n      <th>demand_alt</th>\n      <th>purchased_fresh</th>\n      <th>purchased_packaged</th>\n      <th>total</th>\n      <th>base_secured</th>\n      <th>secured</th>\n      <th>demand</th>\n      <th>demand_alt</th>\n      <th>purchased_fresh</th>\n      <th>purchased_packaged</th>\n    </tr>\n  </thead>\n  <tbody>\n    <tr>\n      <th>0</th>\n      <td>1</td>\n      <td>4.784810</td>\n      <td>0.739065</td>\n      <td>NaN</td>\n      <td>NaN</td>\n      <td>NaN</td>\n      <td>13.312765</td>\n      <td>0.664448</td>\n      <td>NaN</td>\n      <td>NaN</td>\n      <td>NaN</td>\n      <td>NaN</td>\n      <td>NaN</td>\n      <td>11.797404</td>\n      <td>0.480223</td>\n      <td>NaN</td>\n      <td>NaN</td>\n      <td>NaN</td>\n      <td>NaN</td>\n      <td>NaN</td>\n    </tr>\n    <tr>\n      <th>1</th>\n      <td>3</td>\n      <td>13.893051</td>\n      <td>0.657388</td>\n      <td>NaN</td>\n      <td>NaN</td>\n      <td>NaN</td>\n      <td>43.192453</td>\n      <td>0.640523</td>\n      <td>NaN</td>\n      <td>NaN</td>\n      <td>NaN</td>\n      <td>NaN</td>\n      <td>NaN</td>\n      <td>39.999795</td>\n      <td>0.707331</td>\n      <td>NaN</td>\n      <td>NaN</td>\n      <td>NaN</td>\n      <td>NaN</td>\n      <td>NaN</td>\n    </tr>\n    <tr>\n      <th>2</th>\n      <td>4</td>\n      <td>18.743293</td>\n      <td>0.728415</td>\n      <td>NaN</td>\n      <td>NaN</td>\n      <td>NaN</td>\n      <td>56.779748</td>\n      <td>0.336609</td>\n      <td>NaN</td>\n      <td>NaN</td>\n      <td>NaN</td>\n      <td>NaN</td>\n      <td>NaN</td>\n      <td>51.375704</td>\n      <td>0.383128</td>\n      <td>NaN</td>\n      <td>NaN</td>\n      <td>NaN</td>\n      <td>NaN</td>\n      <td>NaN</td>\n    </tr>\n    <tr>\n      <th>3</th>\n      <td>1</td>\n      <td>4.490979</td>\n      <td>0.546357</td>\n      <td>NaN</td>\n      <td>NaN</td>\n      <td>NaN</td>\n      <td>14.338204</td>\n      <td>0.522459</td>\n      <td>NaN</td>\n      <td>NaN</td>\n      <td>NaN</td>\n      <td>NaN</td>\n      <td>NaN</td>\n      <td>14.353721</td>\n      <td>0.615827</td>\n      <td>NaN</td>\n      <td>NaN</td>\n      <td>NaN</td>\n      <td>NaN</td>\n      <td>NaN</td>\n    </tr>\n    <tr>\n      <th>4</th>\n      <td>5</td>\n      <td>25.975730</td>\n      <td>0.562824</td>\n      <td>NaN</td>\n      <td>NaN</td>\n      <td>NaN</td>\n      <td>74.147372</td>\n      <td>0.593564</td>\n      <td>NaN</td>\n      <td>NaN</td>\n      <td>NaN</td>\n      <td>NaN</td>\n      <td>NaN</td>\n      <td>67.321619</td>\n      <td>0.398867</td>\n      <td>NaN</td>\n      <td>NaN</td>\n      <td>NaN</td>\n      <td>NaN</td>\n      <td>NaN</td>\n    </tr>\n    <tr>\n      <th>...</th>\n      <td>...</td>\n      <td>...</td>\n      <td>...</td>\n      <td>...</td>\n      <td>...</td>\n      <td>...</td>\n      <td>...</td>\n      <td>...</td>\n      <td>...</td>\n      <td>...</td>\n      <td>...</td>\n      <td>...</td>\n      <td>...</td>\n      <td>...</td>\n      <td>...</td>\n      <td>...</td>\n      <td>...</td>\n      <td>...</td>\n      <td>...</td>\n      <td>...</td>\n    </tr>\n    <tr>\n      <th>95</th>\n      <td>2</td>\n      <td>8.995218</td>\n      <td>0.329766</td>\n      <td>NaN</td>\n      <td>NaN</td>\n      <td>NaN</td>\n      <td>25.783559</td>\n      <td>0.750226</td>\n      <td>NaN</td>\n      <td>NaN</td>\n      <td>NaN</td>\n      <td>NaN</td>\n      <td>NaN</td>\n      <td>22.823105</td>\n      <td>0.485960</td>\n      <td>NaN</td>\n      <td>NaN</td>\n      <td>NaN</td>\n      <td>NaN</td>\n      <td>NaN</td>\n    </tr>\n    <tr>\n      <th>96</th>\n      <td>3</td>\n      <td>15.958354</td>\n      <td>0.636235</td>\n      <td>NaN</td>\n      <td>NaN</td>\n      <td>NaN</td>\n      <td>41.845409</td>\n      <td>0.488774</td>\n      <td>NaN</td>\n      <td>NaN</td>\n      <td>NaN</td>\n      <td>NaN</td>\n      <td>NaN</td>\n      <td>35.818854</td>\n      <td>0.751570</td>\n      <td>NaN</td>\n      <td>NaN</td>\n      <td>NaN</td>\n      <td>NaN</td>\n      <td>NaN</td>\n    </tr>\n    <tr>\n      <th>97</th>\n      <td>2</td>\n      <td>10.770814</td>\n      <td>0.412172</td>\n      <td>NaN</td>\n      <td>NaN</td>\n      <td>NaN</td>\n      <td>27.031331</td>\n      <td>0.475196</td>\n      <td>NaN</td>\n      <td>NaN</td>\n      <td>NaN</td>\n      <td>NaN</td>\n      <td>NaN</td>\n      <td>26.235245</td>\n      <td>0.348593</td>\n      <td>NaN</td>\n      <td>NaN</td>\n      <td>NaN</td>\n      <td>NaN</td>\n      <td>NaN</td>\n    </tr>\n    <tr>\n      <th>98</th>\n      <td>1</td>\n      <td>5.370961</td>\n      <td>0.769259</td>\n      <td>NaN</td>\n      <td>NaN</td>\n      <td>NaN</td>\n      <td>12.733990</td>\n      <td>0.363060</td>\n      <td>NaN</td>\n      <td>NaN</td>\n      <td>NaN</td>\n      <td>NaN</td>\n      <td>NaN</td>\n      <td>10.818363</td>\n      <td>0.405680</td>\n      <td>NaN</td>\n      <td>NaN</td>\n      <td>NaN</td>\n      <td>NaN</td>\n      <td>NaN</td>\n    </tr>\n    <tr>\n      <th>99</th>\n      <td>1</td>\n      <td>5.221444</td>\n      <td>0.657785</td>\n      <td>NaN</td>\n      <td>NaN</td>\n      <td>NaN</td>\n      <td>12.483846</td>\n      <td>0.480230</td>\n      <td>NaN</td>\n      <td>NaN</td>\n      <td>NaN</td>\n      <td>NaN</td>\n      <td>NaN</td>\n      <td>13.164161</td>\n      <td>0.671345</td>\n      <td>NaN</td>\n      <td>NaN</td>\n      <td>NaN</td>\n      <td>NaN</td>\n      <td>NaN</td>\n    </tr>\n  </tbody>\n</table>\n<p>100 rows × 20 columns</p>\n</div>"
     },
     "execution_count": 42,
     "metadata": {},
     "output_type": "execute_result"
    }
   ],
   "source": [
    "clients"
   ],
   "metadata": {
    "collapsed": false,
    "pycharm": {
     "name": "#%%\n"
    }
   }
  },
  {
   "cell_type": "code",
   "execution_count": 43,
   "outputs": [
    {
     "name": "stderr",
     "output_type": "stream",
     "text": [
      "C:\\Users\\techt\\AppData\\Local\\Temp/ipykernel_9852/3023708085.py:1: FutureWarning: In a future version, `df.iloc[:, i] = newvals` will attempt to set the values inplace instead of always setting a new array. To retain the old behavior, use either `df[df.columns[i]] = newvals` or, if columns are non-unique, `df.isetitem(i, newvals)`\n",
      "  clients.loc[:, (slice(None), ['purchased', 'purchased_fresh', 'purchased_packaged'])] = 0.\n"
     ]
    },
    {
     "data": {
      "text/plain": "   num_people    staples                                        \\\n                   total base_secured secured demand purchased   \n0           1   4.784810     0.739065     NaN    NaN       0.0   \n1           3  13.893051     0.657388     NaN    NaN       0.0   \n2           4  18.743293     0.728415     NaN    NaN       0.0   \n3           1   4.490979     0.546357     NaN    NaN       0.0   \n4           5  25.975730     0.562824     NaN    NaN       0.0   \n..        ...        ...          ...     ...    ...       ...   \n95          2   8.995218     0.329766     NaN    NaN       0.0   \n96          3  15.958354     0.636235     NaN    NaN       0.0   \n97          2  10.770814     0.412172     NaN    NaN       0.0   \n98          1   5.370961     0.769259     NaN    NaN       0.0   \n99          1   5.221444     0.657785     NaN    NaN       0.0   \n\n   fruits_and_vegetables                                         \\\n                   total base_secured secured demand demand_alt   \n0              13.312765     0.664448     NaN    NaN        NaN   \n1              43.192453     0.640523     NaN    NaN        NaN   \n2              56.779748     0.336609     NaN    NaN        NaN   \n3              14.338204     0.522459     NaN    NaN        NaN   \n4              74.147372     0.593564     NaN    NaN        NaN   \n..                   ...          ...     ...    ...        ...   \n95             25.783559     0.750226     NaN    NaN        NaN   \n96             41.845409     0.488774     NaN    NaN        NaN   \n97             27.031331     0.475196     NaN    NaN        NaN   \n98             12.733990     0.363060     NaN    NaN        NaN   \n99             12.483846     0.480230     NaN    NaN        NaN   \n\n                                         protein                              \\\n   purchased_fresh purchased_packaged      total base_secured secured demand   \n0              0.0                0.0  11.797404     0.480223     NaN    NaN   \n1              0.0                0.0  39.999795     0.707331     NaN    NaN   \n2              0.0                0.0  51.375704     0.383128     NaN    NaN   \n3              0.0                0.0  14.353721     0.615827     NaN    NaN   \n4              0.0                0.0  67.321619     0.398867     NaN    NaN   \n..             ...                ...        ...          ...     ...    ...   \n95             0.0                0.0  22.823105     0.485960     NaN    NaN   \n96             0.0                0.0  35.818854     0.751570     NaN    NaN   \n97             0.0                0.0  26.235245     0.348593     NaN    NaN   \n98             0.0                0.0  10.818363     0.405680     NaN    NaN   \n99             0.0                0.0  13.164161     0.671345     NaN    NaN   \n\n                                                  \n   demand_alt purchased_fresh purchased_packaged  \n0         NaN             0.0                0.0  \n1         NaN             0.0                0.0  \n2         NaN             0.0                0.0  \n3         NaN             0.0                0.0  \n4         NaN             0.0                0.0  \n..        ...             ...                ...  \n95        NaN             0.0                0.0  \n96        NaN             0.0                0.0  \n97        NaN             0.0                0.0  \n98        NaN             0.0                0.0  \n99        NaN             0.0                0.0  \n\n[100 rows x 20 columns]",
      "text/html": "<div>\n<style scoped>\n    .dataframe tbody tr th:only-of-type {\n        vertical-align: middle;\n    }\n\n    .dataframe tbody tr th {\n        vertical-align: top;\n    }\n\n    .dataframe thead tr th {\n        text-align: left;\n    }\n</style>\n<table border=\"1\" class=\"dataframe\">\n  <thead>\n    <tr>\n      <th></th>\n      <th>num_people</th>\n      <th colspan=\"5\" halign=\"left\">staples</th>\n      <th colspan=\"7\" halign=\"left\">fruits_and_vegetables</th>\n      <th colspan=\"7\" halign=\"left\">protein</th>\n    </tr>\n    <tr>\n      <th></th>\n      <th></th>\n      <th>total</th>\n      <th>base_secured</th>\n      <th>secured</th>\n      <th>demand</th>\n      <th>purchased</th>\n      <th>total</th>\n      <th>base_secured</th>\n      <th>secured</th>\n      <th>demand</th>\n      <th>demand_alt</th>\n      <th>purchased_fresh</th>\n      <th>purchased_packaged</th>\n      <th>total</th>\n      <th>base_secured</th>\n      <th>secured</th>\n      <th>demand</th>\n      <th>demand_alt</th>\n      <th>purchased_fresh</th>\n      <th>purchased_packaged</th>\n    </tr>\n  </thead>\n  <tbody>\n    <tr>\n      <th>0</th>\n      <td>1</td>\n      <td>4.784810</td>\n      <td>0.739065</td>\n      <td>NaN</td>\n      <td>NaN</td>\n      <td>0.0</td>\n      <td>13.312765</td>\n      <td>0.664448</td>\n      <td>NaN</td>\n      <td>NaN</td>\n      <td>NaN</td>\n      <td>0.0</td>\n      <td>0.0</td>\n      <td>11.797404</td>\n      <td>0.480223</td>\n      <td>NaN</td>\n      <td>NaN</td>\n      <td>NaN</td>\n      <td>0.0</td>\n      <td>0.0</td>\n    </tr>\n    <tr>\n      <th>1</th>\n      <td>3</td>\n      <td>13.893051</td>\n      <td>0.657388</td>\n      <td>NaN</td>\n      <td>NaN</td>\n      <td>0.0</td>\n      <td>43.192453</td>\n      <td>0.640523</td>\n      <td>NaN</td>\n      <td>NaN</td>\n      <td>NaN</td>\n      <td>0.0</td>\n      <td>0.0</td>\n      <td>39.999795</td>\n      <td>0.707331</td>\n      <td>NaN</td>\n      <td>NaN</td>\n      <td>NaN</td>\n      <td>0.0</td>\n      <td>0.0</td>\n    </tr>\n    <tr>\n      <th>2</th>\n      <td>4</td>\n      <td>18.743293</td>\n      <td>0.728415</td>\n      <td>NaN</td>\n      <td>NaN</td>\n      <td>0.0</td>\n      <td>56.779748</td>\n      <td>0.336609</td>\n      <td>NaN</td>\n      <td>NaN</td>\n      <td>NaN</td>\n      <td>0.0</td>\n      <td>0.0</td>\n      <td>51.375704</td>\n      <td>0.383128</td>\n      <td>NaN</td>\n      <td>NaN</td>\n      <td>NaN</td>\n      <td>0.0</td>\n      <td>0.0</td>\n    </tr>\n    <tr>\n      <th>3</th>\n      <td>1</td>\n      <td>4.490979</td>\n      <td>0.546357</td>\n      <td>NaN</td>\n      <td>NaN</td>\n      <td>0.0</td>\n      <td>14.338204</td>\n      <td>0.522459</td>\n      <td>NaN</td>\n      <td>NaN</td>\n      <td>NaN</td>\n      <td>0.0</td>\n      <td>0.0</td>\n      <td>14.353721</td>\n      <td>0.615827</td>\n      <td>NaN</td>\n      <td>NaN</td>\n      <td>NaN</td>\n      <td>0.0</td>\n      <td>0.0</td>\n    </tr>\n    <tr>\n      <th>4</th>\n      <td>5</td>\n      <td>25.975730</td>\n      <td>0.562824</td>\n      <td>NaN</td>\n      <td>NaN</td>\n      <td>0.0</td>\n      <td>74.147372</td>\n      <td>0.593564</td>\n      <td>NaN</td>\n      <td>NaN</td>\n      <td>NaN</td>\n      <td>0.0</td>\n      <td>0.0</td>\n      <td>67.321619</td>\n      <td>0.398867</td>\n      <td>NaN</td>\n      <td>NaN</td>\n      <td>NaN</td>\n      <td>0.0</td>\n      <td>0.0</td>\n    </tr>\n    <tr>\n      <th>...</th>\n      <td>...</td>\n      <td>...</td>\n      <td>...</td>\n      <td>...</td>\n      <td>...</td>\n      <td>...</td>\n      <td>...</td>\n      <td>...</td>\n      <td>...</td>\n      <td>...</td>\n      <td>...</td>\n      <td>...</td>\n      <td>...</td>\n      <td>...</td>\n      <td>...</td>\n      <td>...</td>\n      <td>...</td>\n      <td>...</td>\n      <td>...</td>\n      <td>...</td>\n    </tr>\n    <tr>\n      <th>95</th>\n      <td>2</td>\n      <td>8.995218</td>\n      <td>0.329766</td>\n      <td>NaN</td>\n      <td>NaN</td>\n      <td>0.0</td>\n      <td>25.783559</td>\n      <td>0.750226</td>\n      <td>NaN</td>\n      <td>NaN</td>\n      <td>NaN</td>\n      <td>0.0</td>\n      <td>0.0</td>\n      <td>22.823105</td>\n      <td>0.485960</td>\n      <td>NaN</td>\n      <td>NaN</td>\n      <td>NaN</td>\n      <td>0.0</td>\n      <td>0.0</td>\n    </tr>\n    <tr>\n      <th>96</th>\n      <td>3</td>\n      <td>15.958354</td>\n      <td>0.636235</td>\n      <td>NaN</td>\n      <td>NaN</td>\n      <td>0.0</td>\n      <td>41.845409</td>\n      <td>0.488774</td>\n      <td>NaN</td>\n      <td>NaN</td>\n      <td>NaN</td>\n      <td>0.0</td>\n      <td>0.0</td>\n      <td>35.818854</td>\n      <td>0.751570</td>\n      <td>NaN</td>\n      <td>NaN</td>\n      <td>NaN</td>\n      <td>0.0</td>\n      <td>0.0</td>\n    </tr>\n    <tr>\n      <th>97</th>\n      <td>2</td>\n      <td>10.770814</td>\n      <td>0.412172</td>\n      <td>NaN</td>\n      <td>NaN</td>\n      <td>0.0</td>\n      <td>27.031331</td>\n      <td>0.475196</td>\n      <td>NaN</td>\n      <td>NaN</td>\n      <td>NaN</td>\n      <td>0.0</td>\n      <td>0.0</td>\n      <td>26.235245</td>\n      <td>0.348593</td>\n      <td>NaN</td>\n      <td>NaN</td>\n      <td>NaN</td>\n      <td>0.0</td>\n      <td>0.0</td>\n    </tr>\n    <tr>\n      <th>98</th>\n      <td>1</td>\n      <td>5.370961</td>\n      <td>0.769259</td>\n      <td>NaN</td>\n      <td>NaN</td>\n      <td>0.0</td>\n      <td>12.733990</td>\n      <td>0.363060</td>\n      <td>NaN</td>\n      <td>NaN</td>\n      <td>NaN</td>\n      <td>0.0</td>\n      <td>0.0</td>\n      <td>10.818363</td>\n      <td>0.405680</td>\n      <td>NaN</td>\n      <td>NaN</td>\n      <td>NaN</td>\n      <td>0.0</td>\n      <td>0.0</td>\n    </tr>\n    <tr>\n      <th>99</th>\n      <td>1</td>\n      <td>5.221444</td>\n      <td>0.657785</td>\n      <td>NaN</td>\n      <td>NaN</td>\n      <td>0.0</td>\n      <td>12.483846</td>\n      <td>0.480230</td>\n      <td>NaN</td>\n      <td>NaN</td>\n      <td>NaN</td>\n      <td>0.0</td>\n      <td>0.0</td>\n      <td>13.164161</td>\n      <td>0.671345</td>\n      <td>NaN</td>\n      <td>NaN</td>\n      <td>NaN</td>\n      <td>0.0</td>\n      <td>0.0</td>\n    </tr>\n  </tbody>\n</table>\n<p>100 rows × 20 columns</p>\n</div>"
     },
     "execution_count": 43,
     "metadata": {},
     "output_type": "execute_result"
    }
   ],
   "source": [
    "clients.loc[:, (slice(None), ['purchased', 'purchased_fresh', 'purchased_packaged'])] = 0.\n",
    "clients"
   ],
   "metadata": {
    "collapsed": false,
    "pycharm": {
     "name": "#%%\n"
    }
   }
  },
  {
   "cell_type": "code",
   "execution_count": 41,
   "outputs": [
    {
     "name": "stderr",
     "output_type": "stream",
     "text": [
      "C:\\Users\\techt\\AppData\\Local\\Temp/ipykernel_9852/1441275944.py:1: FutureWarning: In a future version, `df.iloc[:, i] = newvals` will attempt to set the values inplace instead of always setting a new array. To retain the old behavior, use either `df[df.columns[i]] = newvals` or, if columns are non-unique, `df.isetitem(i, newvals)`\n",
      "  clients.loc[:, (slice(None),\"base_secured\")] = rng.uniform(0.3, 0.8, (100, 3))\n"
     ]
    }
   ],
   "source": [
    "clients.loc[:, (slice(None),\"base_secured\")] = rng.uniform(0.3, 0.8, (100, 3))"
   ],
   "metadata": {
    "collapsed": false,
    "pycharm": {
     "name": "#%%\n"
    }
   }
  },
  {
   "cell_type": "code",
   "execution_count": 28,
   "outputs": [
    {
     "ename": "IndexError",
     "evalue": "only integers, slices (`:`), ellipsis (`...`), numpy.newaxis (`None`) and integer or boolean arrays are valid indices",
     "output_type": "error",
     "traceback": [
      "\u001B[1;31m---------------------------------------------------------------------------\u001B[0m",
      "\u001B[1;31mIndexError\u001B[0m                                Traceback (most recent call last)",
      "\u001B[1;32m~\\AppData\\Local\\Temp/ipykernel_9852/3597422381.py\u001B[0m in \u001B[0;36m<module>\u001B[1;34m\u001B[0m\n\u001B[1;32m----> 1\u001B[1;33m \u001B[0mclients\u001B[0m\u001B[1;33m[\u001B[0m\u001B[0mclients\u001B[0m\u001B[1;33m.\u001B[0m\u001B[0mcolumns\u001B[0m\u001B[1;33m[\u001B[0m\u001B[1;33m(\u001B[0m\u001B[0mslice\u001B[0m\u001B[1;33m(\u001B[0m\u001B[1;32mNone\u001B[0m\u001B[1;33m)\u001B[0m\u001B[1;33m,\u001B[0m\u001B[1;34m\"secured\"\u001B[0m\u001B[1;33m)\u001B[0m\u001B[1;33m]\u001B[0m\u001B[1;33m]\u001B[0m \u001B[1;33m=\u001B[0m \u001B[0mrng\u001B[0m\u001B[1;33m.\u001B[0m\u001B[0muniform\u001B[0m\u001B[1;33m(\u001B[0m\u001B[1;36m0.3\u001B[0m\u001B[1;33m,\u001B[0m \u001B[1;36m0.8\u001B[0m\u001B[1;33m,\u001B[0m \u001B[1;33m(\u001B[0m\u001B[1;36m100\u001B[0m\u001B[1;33m,\u001B[0m \u001B[1;36m3\u001B[0m\u001B[1;33m)\u001B[0m\u001B[1;33m)\u001B[0m\u001B[1;33m\u001B[0m\u001B[1;33m\u001B[0m\u001B[0m\n\u001B[0m\u001B[0;32m      2\u001B[0m \u001B[0mclients\u001B[0m\u001B[1;33m\u001B[0m\u001B[1;33m\u001B[0m\u001B[0m\n",
      "\u001B[1;32m~\\AppData\\Roaming\\Python\\Python39\\site-packages\\pandas\\core\\indexes\\multi.py\u001B[0m in \u001B[0;36m__getitem__\u001B[1;34m(self, key)\u001B[0m\n\u001B[0;32m   2126\u001B[0m                 \u001B[0mkey\u001B[0m \u001B[1;33m=\u001B[0m \u001B[0mnp\u001B[0m\u001B[1;33m.\u001B[0m\u001B[0masarray\u001B[0m\u001B[1;33m(\u001B[0m\u001B[0mkey\u001B[0m\u001B[1;33m)\u001B[0m\u001B[1;33m\u001B[0m\u001B[1;33m\u001B[0m\u001B[0m\n\u001B[0;32m   2127\u001B[0m \u001B[1;33m\u001B[0m\u001B[0m\n\u001B[1;32m-> 2128\u001B[1;33m             \u001B[0mnew_codes\u001B[0m \u001B[1;33m=\u001B[0m \u001B[1;33m[\u001B[0m\u001B[0mlevel_codes\u001B[0m\u001B[1;33m[\u001B[0m\u001B[0mkey\u001B[0m\u001B[1;33m]\u001B[0m \u001B[1;32mfor\u001B[0m \u001B[0mlevel_codes\u001B[0m \u001B[1;32min\u001B[0m \u001B[0mself\u001B[0m\u001B[1;33m.\u001B[0m\u001B[0mcodes\u001B[0m\u001B[1;33m]\u001B[0m\u001B[1;33m\u001B[0m\u001B[1;33m\u001B[0m\u001B[0m\n\u001B[0m\u001B[0;32m   2129\u001B[0m \u001B[1;33m\u001B[0m\u001B[0m\n\u001B[0;32m   2130\u001B[0m             return MultiIndex(\n",
      "\u001B[1;32m~\\AppData\\Roaming\\Python\\Python39\\site-packages\\pandas\\core\\indexes\\multi.py\u001B[0m in \u001B[0;36m<listcomp>\u001B[1;34m(.0)\u001B[0m\n\u001B[0;32m   2126\u001B[0m                 \u001B[0mkey\u001B[0m \u001B[1;33m=\u001B[0m \u001B[0mnp\u001B[0m\u001B[1;33m.\u001B[0m\u001B[0masarray\u001B[0m\u001B[1;33m(\u001B[0m\u001B[0mkey\u001B[0m\u001B[1;33m)\u001B[0m\u001B[1;33m\u001B[0m\u001B[1;33m\u001B[0m\u001B[0m\n\u001B[0;32m   2127\u001B[0m \u001B[1;33m\u001B[0m\u001B[0m\n\u001B[1;32m-> 2128\u001B[1;33m             \u001B[0mnew_codes\u001B[0m \u001B[1;33m=\u001B[0m \u001B[1;33m[\u001B[0m\u001B[0mlevel_codes\u001B[0m\u001B[1;33m[\u001B[0m\u001B[0mkey\u001B[0m\u001B[1;33m]\u001B[0m \u001B[1;32mfor\u001B[0m \u001B[0mlevel_codes\u001B[0m \u001B[1;32min\u001B[0m \u001B[0mself\u001B[0m\u001B[1;33m.\u001B[0m\u001B[0mcodes\u001B[0m\u001B[1;33m]\u001B[0m\u001B[1;33m\u001B[0m\u001B[1;33m\u001B[0m\u001B[0m\n\u001B[0m\u001B[0;32m   2129\u001B[0m \u001B[1;33m\u001B[0m\u001B[0m\n\u001B[0;32m   2130\u001B[0m             return MultiIndex(\n",
      "\u001B[1;31mIndexError\u001B[0m: only integers, slices (`:`), ellipsis (`...`), numpy.newaxis (`None`) and integer or boolean arrays are valid indices"
     ]
    }
   ],
   "source": [
    "clients[clients.columns[(slice(None),\"secured\")]] = rng.uniform(0.3, 0.8, (100, 3))\n",
    "clients"
   ],
   "metadata": {
    "collapsed": false,
    "pycharm": {
     "name": "#%%\n"
    }
   }
  },
  {
   "cell_type": "code",
   "execution_count": 12,
   "outputs": [
    {
     "data": {
      "text/plain": "0    NaN\nName: (staples, secured), dtype: object"
     },
     "execution_count": 12,
     "metadata": {},
     "output_type": "execute_result"
    }
   ],
   "source": [
    "df.loc[:0, (STP, \"secured\")]"
   ],
   "metadata": {
    "collapsed": false,
    "pycharm": {
     "name": "#%%\n"
    }
   }
  },
  {
   "cell_type": "code",
   "execution_count": 15,
   "outputs": [],
   "source": [
    "rng = np.random.default_rng()"
   ],
   "metadata": {
    "collapsed": false,
    "pycharm": {
     "name": "#%%\n"
    }
   }
  },
  {
   "cell_type": "code",
   "execution_count": 13,
   "outputs": [
    {
     "data": {
      "text/plain": "2"
     },
     "execution_count": 13,
     "metadata": {},
     "output_type": "execute_result"
    }
   ],
   "source": [
    "np.random.default_rng().integers(0, 7)"
   ],
   "metadata": {
    "collapsed": false,
    "pycharm": {
     "name": "#%%\n"
    }
   }
  },
  {
   "cell_type": "code",
   "execution_count": 20,
   "outputs": [
    {
     "data": {
      "text/plain": "array([1, 2, 4, 1, 2, 5, 6, 1, 6, 2, 2, 2, 2, 2, 4, 2, 2, 1, 2, 2, 2, 2,\n       1, 3, 2, 2, 1, 4, 3, 2, 1, 2, 1, 4, 2, 2, 3, 2, 2, 3, 5, 2, 2, 3,\n       3, 1, 6, 4, 4, 2, 3, 4, 2, 1, 3, 1, 2, 2, 1, 2, 5, 5, 2, 3, 4, 1,\n       1, 1, 1, 2, 3, 2, 2, 2, 2, 9, 2, 3, 1, 2, 3, 1, 2, 3, 2, 4, 2, 2,\n       5, 4, 2, 8, 5, 5, 1, 1, 2, 2, 5, 1])"
     },
     "execution_count": 20,
     "metadata": {},
     "output_type": "execute_result"
    }
   ],
   "source": [
    "rng.choice(range(1, 11), 100, p=FAMILY_DISTRIBUTION)"
   ],
   "metadata": {
    "collapsed": false,
    "pycharm": {
     "name": "#%%\n"
    }
   }
  },
  {
   "cell_type": "code",
   "execution_count": 23,
   "outputs": [],
   "source": [
    "a: dict"
   ],
   "metadata": {
    "collapsed": false,
    "pycharm": {
     "name": "#%%\n"
    }
   }
  },
  {
   "cell_type": "code",
   "execution_count": 24,
   "outputs": [
    {
     "ename": "NameError",
     "evalue": "name 'a' is not defined",
     "output_type": "error",
     "traceback": [
      "\u001B[1;31m---------------------------------------------------------------------------\u001B[0m",
      "\u001B[1;31mNameError\u001B[0m                                 Traceback (most recent call last)",
      "\u001B[1;32m~\\AppData\\Local\\Temp/ipykernel_4040/1288270073.py\u001B[0m in \u001B[0;36m<module>\u001B[1;34m\u001B[0m\n\u001B[1;32m----> 1\u001B[1;33m \u001B[0ma\u001B[0m\u001B[1;33m\u001B[0m\u001B[1;33m\u001B[0m\u001B[0m\n\u001B[0m",
      "\u001B[1;31mNameError\u001B[0m: name 'a' is not defined"
     ]
    }
   ],
   "source": [
    "a"
   ],
   "metadata": {
    "collapsed": false,
    "pycharm": {
     "name": "#%%\n"
    }
   }
  },
  {
   "cell_type": "code",
   "execution_count": 26,
   "outputs": [
    {
     "data": {
      "text/plain": "array([[0.46713053, 0.61680935, 0.78574576],\n       [0.32584138, 0.41957676, 0.638874  ],\n       [0.54477672, 0.60752674, 0.42128631],\n       [0.77053442, 0.4716277 , 0.73892086],\n       [0.73084925, 0.40296935, 0.58021526],\n       [0.71783257, 0.45156034, 0.58151702],\n       [0.41437203, 0.5648428 , 0.39816521],\n       [0.72415256, 0.49839417, 0.78198777],\n       [0.59630888, 0.4178616 , 0.68102478],\n       [0.78640936, 0.52372774, 0.69857244]])"
     },
     "execution_count": 26,
     "metadata": {},
     "output_type": "execute_result"
    }
   ],
   "source": [
    "b=rng.uniform(0.3, 0.8, (10, 3))\n",
    "b"
   ],
   "metadata": {
    "collapsed": false,
    "pycharm": {
     "name": "#%%\n"
    }
   }
  },
  {
   "cell_type": "code",
   "execution_count": 28,
   "outputs": [
    {
     "data": {
      "text/plain": "array([[0.46713053, 0.61680935, 0.78574576],\n       [0.32584138, 0.41957676, 0.638874  ],\n       [0.54477672, 0.60752674, 0.42128631],\n       [0.77053442, 0.4716277 , 0.73892086],\n       [0.73084925, 0.40296935, 0.58021526],\n       [0.71783257, 0.45156034, 0.58151702],\n       [0.41437203, 0.5648428 , 0.39816521],\n       [0.72415256, 0.49839417, 0.78198777],\n       [0.59630888, 0.4178616 , 0.68102478],\n       [0.78640936, 0.52372774, 0.69857244]])"
     },
     "execution_count": 28,
     "metadata": {},
     "output_type": "execute_result"
    }
   ],
   "source": [
    "b"
   ],
   "metadata": {
    "collapsed": false,
    "pycharm": {
     "name": "#%%\n"
    }
   }
  },
  {
   "cell_type": "code",
   "execution_count": 29,
   "outputs": [
    {
     "ename": "AttributeError",
     "evalue": "'numpy.ndarray' object has no attribute 'sample'",
     "output_type": "error",
     "traceback": [
      "\u001B[1;31m---------------------------------------------------------------------------\u001B[0m",
      "\u001B[1;31mAttributeError\u001B[0m                            Traceback (most recent call last)",
      "\u001B[1;32m~\\AppData\\Local\\Temp/ipykernel_4040/4051721259.py\u001B[0m in \u001B[0;36m<module>\u001B[1;34m\u001B[0m\n\u001B[1;32m----> 1\u001B[1;33m \u001B[0mb\u001B[0m\u001B[1;33m.\u001B[0m\u001B[0msample\u001B[0m\u001B[1;33m(\u001B[0m\u001B[0mfrac\u001B[0m\u001B[1;33m=\u001B[0m\u001B[1;36m1\u001B[0m\u001B[1;33m)\u001B[0m\u001B[1;33m\u001B[0m\u001B[1;33m\u001B[0m\u001B[0m\n\u001B[0m",
      "\u001B[1;31mAttributeError\u001B[0m: 'numpy.ndarray' object has no attribute 'sample'"
     ]
    }
   ],
   "source": [
    "b.sample(frac=1)"
   ],
   "metadata": {
    "collapsed": false,
    "pycharm": {
     "name": "#%%\n"
    }
   }
  },
  {
   "cell_type": "markdown",
   "source": [],
   "metadata": {
    "collapsed": false,
    "pycharm": {
     "name": "#%% md\n"
    }
   }
  },
  {
   "cell_type": "code",
   "execution_count": 36,
   "outputs": [],
   "source": [
    "from utils import Food"
   ],
   "metadata": {
    "collapsed": false,
    "pycharm": {
     "name": "#%%\n"
    }
   }
  },
  {
   "cell_type": "code",
   "execution_count": 11,
   "outputs": [
    {
     "data": {
      "text/plain": "                          type  remaining_days    quantity\n0  fresh_fruits_and_vegetables               1  500.000000\n1             packaged_protein               1  416.666667\n2             packaged_protein               2  416.666667\n3             packaged_protein               3  416.666667",
      "text/html": "<div>\n<style scoped>\n    .dataframe tbody tr th:only-of-type {\n        vertical-align: middle;\n    }\n\n    .dataframe tbody tr th {\n        vertical-align: top;\n    }\n\n    .dataframe thead th {\n        text-align: right;\n    }\n</style>\n<table border=\"1\" class=\"dataframe\">\n  <thead>\n    <tr style=\"text-align: right;\">\n      <th></th>\n      <th>type</th>\n      <th>remaining_days</th>\n      <th>quantity</th>\n    </tr>\n  </thead>\n  <tbody>\n    <tr>\n      <th>0</th>\n      <td>fresh_fruits_and_vegetables</td>\n      <td>1</td>\n      <td>500.000000</td>\n    </tr>\n    <tr>\n      <th>1</th>\n      <td>packaged_protein</td>\n      <td>1</td>\n      <td>416.666667</td>\n    </tr>\n    <tr>\n      <th>2</th>\n      <td>packaged_protein</td>\n      <td>2</td>\n      <td>416.666667</td>\n    </tr>\n    <tr>\n      <th>3</th>\n      <td>packaged_protein</td>\n      <td>3</td>\n      <td>416.666667</td>\n    </tr>\n  </tbody>\n</table>\n</div>"
     },
     "execution_count": 11,
     "metadata": {},
     "output_type": "execute_result"
    }
   ],
   "source": [
    "df = Food(5000).df\n",
    "df"
   ],
   "metadata": {
    "collapsed": false,
    "pycharm": {
     "name": "#%%\n"
    }
   }
  },
  {
   "cell_type": "code",
   "execution_count": null,
   "outputs": [],
   "source": [],
   "metadata": {
    "collapsed": false,
    "pycharm": {
     "name": "#%%\n"
    }
   }
  },
  {
   "cell_type": "code",
   "execution_count": 14,
   "outputs": [
    {
     "data": {
      "text/plain": "1e-07"
     },
     "execution_count": 14,
     "metadata": {},
     "output_type": "execute_result"
    }
   ],
   "source": [
    "1e-7"
   ],
   "metadata": {
    "collapsed": false,
    "pycharm": {
     "name": "#%%\n"
    }
   }
  },
  {
   "cell_type": "code",
   "execution_count": 13,
   "outputs": [
    {
     "data": {
      "text/plain": "                          type  remaining_days    quantity\n0  fresh_fruits_and_vegetables               1  500.000000\n1             packaged_protein               1  416.666667",
      "text/html": "<div>\n<style scoped>\n    .dataframe tbody tr th:only-of-type {\n        vertical-align: middle;\n    }\n\n    .dataframe tbody tr th {\n        vertical-align: top;\n    }\n\n    .dataframe thead th {\n        text-align: right;\n    }\n</style>\n<table border=\"1\" class=\"dataframe\">\n  <thead>\n    <tr style=\"text-align: right;\">\n      <th></th>\n      <th>type</th>\n      <th>remaining_days</th>\n      <th>quantity</th>\n    </tr>\n  </thead>\n  <tbody>\n    <tr>\n      <th>0</th>\n      <td>fresh_fruits_and_vegetables</td>\n      <td>1</td>\n      <td>500.000000</td>\n    </tr>\n    <tr>\n      <th>1</th>\n      <td>packaged_protein</td>\n      <td>1</td>\n      <td>416.666667</td>\n    </tr>\n  </tbody>\n</table>\n</div>"
     },
     "execution_count": 13,
     "metadata": {},
     "output_type": "execute_result"
    }
   ],
   "source": [
    "df[df[\"remaining_days\"]==1].reset_index(drop=True)"
   ],
   "metadata": {
    "collapsed": false,
    "pycharm": {
     "name": "#%%\n"
    }
   }
  },
  {
   "cell_type": "code",
   "execution_count": null,
   "outputs": [],
   "source": [],
   "metadata": {
    "collapsed": false,
    "pycharm": {
     "name": "#%%\n"
    }
   }
  }
 ],
 "metadata": {
  "kernelspec": {
   "display_name": "Python 3",
   "language": "python",
   "name": "python3"
  },
  "language_info": {
   "codemirror_mode": {
    "name": "ipython",
    "version": 2
   },
   "file_extension": ".py",
   "mimetype": "text/x-python",
   "name": "python",
   "nbconvert_exporter": "python",
   "pygments_lexer": "ipython2",
   "version": "2.7.6"
  }
 },
 "nbformat": 4,
 "nbformat_minor": 0
}